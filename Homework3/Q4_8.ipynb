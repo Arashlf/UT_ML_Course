{
  "nbformat": 4,
  "nbformat_minor": 0,
  "metadata": {
    "colab": {
      "name": "Q4-8.ipynb",
      "provenance": [],
      "collapsed_sections": [
        "G2pou8OcBLW-",
        "Gyeaq0dXTZml",
        "Hudz_1lzGnNb",
        "trwKrBHlG_Ub",
        "9gv0wfFBIoR-"
      ],
      "authorship_tag": "ABX9TyNPl8uIxqhCGPKD+bqzUx4k",
      "include_colab_link": true
    },
    "kernelspec": {
      "name": "python3",
      "display_name": "Python 3"
    },
    "language_info": {
      "name": "python"
    }
  },
  "cells": [
    {
      "cell_type": "markdown",
      "metadata": {
        "id": "view-in-github",
        "colab_type": "text"
      },
      "source": [
        "<a href=\"https://colab.research.google.com/github/Arashlf/UT_ML_Course/blob/main/Homework3/Q4_8.ipynb\" target=\"_parent\"><img src=\"https://colab.research.google.com/assets/colab-badge.svg\" alt=\"Open In Colab\"/></a>"
      ]
    },
    {
      "cell_type": "markdown",
      "source": [
        "# ML: Homework 3 - Question 4 through 8\n",
        "## Arash Latifi - 810197576\n",
        "### Srping 2022"
      ],
      "metadata": {
        "id": "V4rzYNGKS6oS"
      }
    },
    {
      "cell_type": "markdown",
      "source": [
        "---"
      ],
      "metadata": {
        "id": "5XVwCRJHS6WD"
      }
    },
    {
      "cell_type": "markdown",
      "source": [
        "Homework3/Q4_8.ipynb"
      ],
      "metadata": {
        "id": "7aAqhpDNBFwn"
      }
    },
    {
      "cell_type": "code",
      "source": [
        "import matplotlib.pyplot as plt\n",
        "import numpy as np\n",
        "import pandas as pd\n",
        "from scipy.spatial import distance"
      ],
      "metadata": {
        "id": "eE86Ai5MUI_p"
      },
      "execution_count": 1,
      "outputs": []
    },
    {
      "cell_type": "markdown",
      "source": [
        "## Q4) KNN"
      ],
      "metadata": {
        "id": "nzaRGH7YS_SV"
      }
    },
    {
      "cell_type": "markdown",
      "source": [
        "### Theoretical Part:"
      ],
      "metadata": {
        "id": "G2pou8OcBLW-"
      }
    },
    {
      "cell_type": "markdown",
      "source": [
        "#### Bias-variance trade of:\n",
        "In parzen knn, hn is the window size. The smaller the window, the more complex the boundaries will be. Because there may be very few samples in each window, our estimate models have more noise, so there is more variance and less bias. The large hn has enough samples in each window so it has less noise. But a good estimate is not obtained from the model because the complexity is very low, so we have low variance with high bias.\n",
        "\n",
        "In knn method, kn is the number of samples that are placed in each window. If this value of kn is large, the window will be bigger, so like Parzan method, it can be concluded that with increasing kn, the bias decreases and the variance increases.\n"
      ],
      "metadata": {
        "id": "NOVbuFyx9kzo"
      }
    },
    {
      "cell_type": "markdown",
      "source": [
        "#### Parametric and non-Parametric:\n",
        "In parametric models, it is assumed that the model of probability density functions is known and it is enough to obtain the parameters of that distribution with the data set, and then we no longer need the data set and estimate the probability function obtained for each output data.\n",
        "In the non-parametric model, we do not have an assumption on the distribution of data or we can not determine a suitable distribution for them, so to estimate each point with all the data in hand, we estimate the output methods. The main problem with this method is that we need all the data to estimate each input and we have to spend a lot of volume to maintain it."
      ],
      "metadata": {
        "id": "0-XfW6ii-dz6"
      }
    },
    {
      "cell_type": "markdown",
      "source": [
        "#### Kernel Based methods problem:\n",
        "The main problem with this method is that we need a lot of data in each window to bring our estimate closer to the actual model, and because each window has to be small, we need a lot of data in total. All this data must be stored. Also, in order to obtain an estimate for each point, the distance of this large number of data from the input point must be measured, thus increasing the volume of calculations. (Problem: collecting, maintaining, processing on a large volume of data)"
      ],
      "metadata": {
        "id": "JoEJhYTF_BGY"
      }
    },
    {
      "cell_type": "markdown",
      "source": [
        "#### Volume difference in parzen and knn:\n",
        "In the Parzen method, the volume is denoted by hn, which is the length of the window (hn = Vn), but in the knn method, we increase the volume of each window to such an extent that the data kn is inside it, so the volume of each window is not fixed, unlike the Parzen method and it can be increased or decreased."
      ],
      "metadata": {
        "id": "LBzIObC5_fCT"
      }
    },
    {
      "cell_type": "markdown",
      "source": [
        "### Simulation Part:"
      ],
      "metadata": {
        "id": "BBmpKEFyBSOJ"
      }
    },
    {
      "cell_type": "markdown",
      "source": [
        "### Part a)"
      ],
      "metadata": {
        "id": "Gyeaq0dXTZml"
      }
    },
    {
      "cell_type": "code",
      "source": [
        "n = 1000;\n",
        "d = [5, 2e3, 5e3 , 1e4]; #, 1e6]\n",
        "\n",
        "fig, axs = plt.subplots(1, 4, figsize = (14, 4))\n",
        "fig.suptitle('N = {}'.format(n))\n",
        "for l in range(4):\n",
        "  dists = [];\n",
        "  points = np.random.rand(int(n), int(d[l]));\n",
        "  for i in range(n):\n",
        "    for j in range(i+1,n):\n",
        "      x = distance.euclidean(points[i],points[j])\n",
        "      dists.append(x)\n",
        "  axs[l].hist(dists, bins='auto') \n",
        "  axs[l].set_title('D = {}'.format(d[l]))\n",
        "fig.tight_layout()\n",
        "plt.show()"
      ],
      "metadata": {
        "id": "WuRDSHAaS2tk",
        "colab": {
          "base_uri": "https://localhost:8080/",
          "height": 302
        },
        "outputId": "2e5ac400-da5a-497e-fe74-44b220e4ce03"
      },
      "execution_count": 24,
      "outputs": [
        {
          "output_type": "display_data",
          "data": {
            "text/plain": [
              "<Figure size 1008x288 with 4 Axes>"
            ],
            "image/png": "[encoded data removed]"
          },
          "metadata": {
            "needs_background": "light"
          }
        }
      ]
    },
    {
      "cell_type": "markdown",
      "source": [
        "In a fixed number of samples, if we increase the dimension, the shape of the distribution does not change much and only the scale of distances becomes larger because the squares of the distances add up in each dimension. So this dimension increase does not help us to model more accurately and only makes the calculations more complex and time consuming."
      ],
      "metadata": {
        "id": "JOo6nK_9HMkH"
      }
    },
    {
      "cell_type": "markdown",
      "source": [
        "### Part b)"
      ],
      "metadata": {
        "id": "Hudz_1lzGnNb"
      }
    },
    {
      "cell_type": "code",
      "source": [
        "d = 10000;\n",
        "n = [1e3, 2e3, 5e3 , 1e4]; #, 1e6]\n",
        "dists = [];\n",
        "\n",
        "fig, axs = plt.subplots(1, 4, figsize = (14, 4))\n",
        "fig.suptitle('D = {}'.format(d))\n",
        "for l in range(4):\n",
        "  points = np.random.rand(int(n[l]), int(d));\n",
        "  for i in range(int(n[l])):\n",
        "    for j in range(i+1,int(n[l])):\n",
        "      x = distance.euclidean(points[i],points[j])\n",
        "      dists.append(x)\n",
        "  axs[l].hist(dists, bins='auto') \n",
        "  axs[l].set_title('N = {}'.format(n[l]))\n",
        "fig.tight_layout()\n",
        "plt.show()"
      ],
      "metadata": {
        "colab": {
          "base_uri": "https://localhost:8080/",
          "height": 302
        },
        "id": "hSaT0IG0Gpb6",
        "outputId": "1e5c6ef0-2395-4d16-ff2c-f1d0ec86b284"
      },
      "execution_count": 26,
      "outputs": [
        {
          "output_type": "display_data",
          "data": {
            "text/plain": [
              "<Figure size 1008x288 with 4 Axes>"
            ],
            "image/png": "[encoded data removed]"
          },
          "metadata": {
            "needs_background": "light"
          }
        }
      ]
    },
    {
      "cell_type": "markdown",
      "source": [
        "Increasing the number of samples in the same dimension makes the histogram smoother and closer to the original model, which is a Gaussian distribution, but this increase does not change the number of distances. So overall, increasing the number of samples makes the distribution more accurate and smoother, but the volume and time of calculations are greatly increased."
      ],
      "metadata": {
        "id": "jVfu9E5FHexn"
      }
    },
    {
      "cell_type": "markdown",
      "source": [
        "### Part c)"
      ],
      "metadata": {
        "id": "trwKrBHlG_Ub"
      }
    },
    {
      "cell_type": "markdown",
      "source": [
        "Knn algorithm is a good algorithm if the number of data is enough to have the appropriate amount of data with higher dimension. If the number of data is small, the problem of dimension of curse is created. This is due to the fact that we have increased the dimensions and our input space has been enlarged and many modes have been created, but we do not have enough data to cover this space, so in some cases the probability distribution may be zero and the result with the desired value Have a distance."
      ],
      "metadata": {
        "id": "ONpCFsEIH3Mu"
      }
    },
    {
      "cell_type": "markdown",
      "source": [
        "## Q5) Non-Parametric Parzen Estimations"
      ],
      "metadata": {
        "id": "DJEmCU8zIYeQ"
      }
    },
    {
      "cell_type": "markdown",
      "source": [
        "### Part a)"
      ],
      "metadata": {
        "id": "196w4xlXIr_9"
      }
    },
    {
      "cell_type": "code",
      "source": [
        ""
      ],
      "metadata": {
        "id": "nu6tsvhcImUp"
      },
      "execution_count": null,
      "outputs": []
    },
    {
      "cell_type": "markdown",
      "source": [
        "### Part b)"
      ],
      "metadata": {
        "id": "NMkSQj5kQvAj"
      }
    },
    {
      "cell_type": "code",
      "source": [
        ""
      ],
      "metadata": {
        "id": "NLJN7OoZQvAl"
      },
      "execution_count": null,
      "outputs": []
    },
    {
      "cell_type": "markdown",
      "source": [
        "### Part c)"
      ],
      "metadata": {
        "id": "Gpkykp6TQvXc"
      }
    },
    {
      "cell_type": "code",
      "source": [
        ""
      ],
      "metadata": {
        "id": "wFEw8dwNQvXd"
      },
      "execution_count": null,
      "outputs": []
    },
    {
      "cell_type": "markdown",
      "source": [
        "### Part d)"
      ],
      "metadata": {
        "id": "Gua-l34HQvfA"
      }
    },
    {
      "cell_type": "code",
      "source": [
        ""
      ],
      "metadata": {
        "id": "ASk-CKg3QvfB"
      },
      "execution_count": null,
      "outputs": []
    },
    {
      "cell_type": "markdown",
      "source": [
        "## Q6) "
      ],
      "metadata": {
        "id": "9gv0wfFBIoR-"
      }
    },
    {
      "cell_type": "code",
      "source": [
        ""
      ],
      "metadata": {
        "id": "rGq9rxcPIpNu"
      },
      "execution_count": null,
      "outputs": []
    }
  ]
}