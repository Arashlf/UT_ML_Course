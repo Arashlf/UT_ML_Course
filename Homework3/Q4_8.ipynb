{
  "nbformat": 4,
  "nbformat_minor": 0,
  "metadata": {
    "colab": {
      "name": "Q4-8.ipynb",
      "provenance": [],
      "collapsed_sections": [],
      "authorship_tag": "ABX9TyMl6Q4LtJUhv9GpyNT128Xg",
      "include_colab_link": true
    },
    "kernelspec": {
      "name": "python3",
      "display_name": "Python 3"
    },
    "language_info": {
      "name": "python"
    }
  },
  "cells": [
    {
      "cell_type": "markdown",
      "metadata": {
        "id": "view-in-github",
        "colab_type": "text"
      },
      "source": [
        "<a href=\"https://colab.research.google.com/github/Arashlf/UT_ML_Course/blob/main/Homework3/Q4_8.ipynb\" target=\"_parent\"><img src=\"https://colab.research.google.com/assets/colab-badge.svg\" alt=\"Open In Colab\"/></a>"
      ]
    },
    {
      "cell_type": "markdown",
      "source": [
        "# ML: Homework 3 - Question 4 through 8\n",
        "## Arash Latifi - 810197576\n",
        "### Srping 2022"
      ],
      "metadata": {
        "id": "V4rzYNGKS6oS"
      }
    },
    {
      "cell_type": "markdown",
      "source": [
        "---"
      ],
      "metadata": {
        "id": "5XVwCRJHS6WD"
      }
    },
    {
      "cell_type": "code",
      "source": [
        "import matplotlib.pyplot as plt\n",
        "import numpy as np\n",
        "import pandas as pd\n",
        "from scipy.spatial import distance"
      ],
      "metadata": {
        "id": "eE86Ai5MUI_p"
      },
      "execution_count": 1,
      "outputs": []
    },
    {
      "cell_type": "markdown",
      "source": [
        "## Q4) KNN"
      ],
      "metadata": {
        "id": "nzaRGH7YS_SV"
      }
    },
    {
      "cell_type": "markdown",
      "source": [
        "### Bias-variance trade of:\n",
        "In parzen knn, hn is the window size. The smaller the window, the more complex the boundaries will be. Because there may be very few samples in each window, our estimate models have more noise, so there is more variance and less bias. The large hn has enough samples in each window so it has less noise. But a good estimate is not obtained from the model because the complexity is very low, so we have low variance with high bias.\n",
        "\n",
        "In knn method, kn is the number of samples that are placed in each window. If this value of kn is large, the window will be bigger, so like Parzan method, it can be concluded that with increasing kn, the bias decreases and the variance increases.\n"
      ],
      "metadata": {
        "id": "NOVbuFyx9kzo"
      }
    },
    {
      "cell_type": "markdown",
      "source": [
        "### Parametric and non-Parametric:\n",
        "In parametric models, it is assumed that the model of probability density functions is known and it is enough to obtain the parameters of that distribution with the data set, and then we no longer need the data set and estimate the probability function obtained for each output data.\n",
        "In the non-parametric model, we do not have an assumption on the distribution of data or we can not determine a suitable distribution for them, so to estimate each point with all the data in hand, we estimate the output methods. The main problem with this method is that we need all the data to estimate each input and we have to spend a lot of volume to maintain it."
      ],
      "metadata": {
        "id": "0-XfW6ii-dz6"
      }
    },
    {
      "cell_type": "markdown",
      "source": [
        "### Kernel Based methods problem:\n",
        "The main problem with this method is that we need a lot of data in each window to bring our estimate closer to the actual model, and because each window has to be small, we need a lot of data in total. All this data must be stored. Also, in order to obtain an estimate for each point, the distance of this large number of data from the input point must be measured, thus increasing the volume of calculations. (Problem: collecting, maintaining, processing on a large volume of data)"
      ],
      "metadata": {
        "id": "JoEJhYTF_BGY"
      }
    },
    {
      "cell_type": "markdown",
      "source": [
        "### Volume difference in parzen and knn:\n",
        "In the Parzen method, the volume is denoted by hn, which is the length of the window (hn = Vn), but in the knn method, we increase the volume of each window to such an extent that the data kn is inside it, so the volume of each window is not fixed, unlike the Parzen method and it can be increased or decreased."
      ],
      "metadata": {
        "id": "LBzIObC5_fCT"
      }
    },
    {
      "cell_type": "code",
      "source": [
        "def kn_distance(X,k):\n",
        "  kn = []\n",
        "  for i in range(len(X)):\n",
        "    eucl_dist = []\n",
        "    for j in range(len(X)):\n",
        "      eucl_dist.append(np.sqrt(np.sum((points[i]-points[j])**2)))\n",
        "    eucl_dist.sort()\n",
        "    # print(eucl_dist)\n",
        "    kn.append(eucl_dist[k])\n",
        "  return kn"
      ],
      "metadata": {
        "id": "ZfeSRt17b1MV"
      },
      "execution_count": null,
      "outputs": []
    },
    {
      "cell_type": "markdown",
      "source": [
        "### Part a)"
      ],
      "metadata": {
        "id": "Gyeaq0dXTZml"
      }
    },
    {
      "cell_type": "code",
      "source": [
        "dists = []\n",
        "for size in [1e3, 2e3, 5e3, 1e4, 1e6]:\n",
        "  mean = np.zeros(5).astype(int)\n",
        "  cov = np.zeros((5,5)).astype(int)\n",
        "  np.fill_diagonal(cov, 10)\n",
        "  points = np.random.multivariate_normal(mean, cov, int(size))\n",
        "  # dists.append(kn_distance(points,5))"
      ],
      "metadata": {
        "id": "WuRDSHAaS2tk",
        "colab": {
          "base_uri": "https://localhost:8080/",
          "height": 322
        },
        "outputId": "80424366-d7ec-4556-f235-0917a3288fdf"
      },
      "execution_count": null,
      "outputs": [
        {
          "output_type": "error",
          "ename": "KeyboardInterrupt",
          "evalue": "ignored",
          "traceback": [
            "\u001b[0;31m---------------------------------------------------------------------------\u001b[0m",
            "\u001b[0;31mKeyboardInterrupt\u001b[0m                         Traceback (most recent call last)",
            "\u001b[0;32m<ipython-input-8-16292afa233e>\u001b[0m in \u001b[0;36m<module>\u001b[0;34m()\u001b[0m\n\u001b[1;32m      5\u001b[0m   \u001b[0mnp\u001b[0m\u001b[0;34m.\u001b[0m\u001b[0mfill_diagonal\u001b[0m\u001b[0;34m(\u001b[0m\u001b[0mcov\u001b[0m\u001b[0;34m,\u001b[0m \u001b[0;36m10\u001b[0m\u001b[0;34m)\u001b[0m\u001b[0;34m\u001b[0m\u001b[0;34m\u001b[0m\u001b[0m\n\u001b[1;32m      6\u001b[0m   \u001b[0mpoints\u001b[0m \u001b[0;34m=\u001b[0m \u001b[0mnp\u001b[0m\u001b[0;34m.\u001b[0m\u001b[0mrandom\u001b[0m\u001b[0;34m.\u001b[0m\u001b[0mmultivariate_normal\u001b[0m\u001b[0;34m(\u001b[0m\u001b[0mmean\u001b[0m\u001b[0;34m,\u001b[0m \u001b[0mcov\u001b[0m\u001b[0;34m,\u001b[0m \u001b[0mint\u001b[0m\u001b[0;34m(\u001b[0m\u001b[0msize\u001b[0m\u001b[0;34m)\u001b[0m\u001b[0;34m)\u001b[0m\u001b[0;34m\u001b[0m\u001b[0;34m\u001b[0m\u001b[0m\n\u001b[0;32m----> 7\u001b[0;31m   \u001b[0mdists\u001b[0m\u001b[0;34m.\u001b[0m\u001b[0mappend\u001b[0m\u001b[0;34m(\u001b[0m\u001b[0mkn_distance\u001b[0m\u001b[0;34m(\u001b[0m\u001b[0mpoints\u001b[0m\u001b[0;34m,\u001b[0m\u001b[0;36m5\u001b[0m\u001b[0;34m)\u001b[0m\u001b[0;34m)\u001b[0m\u001b[0;34m\u001b[0m\u001b[0;34m\u001b[0m\u001b[0m\n\u001b[0m",
            "\u001b[0;32m<ipython-input-4-be68a0eb906b>\u001b[0m in \u001b[0;36mkn_distance\u001b[0;34m(X, k)\u001b[0m\n\u001b[1;32m      4\u001b[0m     \u001b[0meucl_dist\u001b[0m \u001b[0;34m=\u001b[0m \u001b[0;34m[\u001b[0m\u001b[0;34m]\u001b[0m\u001b[0;34m\u001b[0m\u001b[0;34m\u001b[0m\u001b[0m\n\u001b[1;32m      5\u001b[0m     \u001b[0;32mfor\u001b[0m \u001b[0mj\u001b[0m \u001b[0;32min\u001b[0m \u001b[0mrange\u001b[0m\u001b[0;34m(\u001b[0m\u001b[0mlen\u001b[0m\u001b[0;34m(\u001b[0m\u001b[0mX\u001b[0m\u001b[0;34m)\u001b[0m\u001b[0;34m)\u001b[0m\u001b[0;34m:\u001b[0m\u001b[0;34m\u001b[0m\u001b[0;34m\u001b[0m\u001b[0m\n\u001b[0;32m----> 6\u001b[0;31m       \u001b[0meucl_dist\u001b[0m\u001b[0;34m.\u001b[0m\u001b[0mappend\u001b[0m\u001b[0;34m(\u001b[0m\u001b[0mnp\u001b[0m\u001b[0;34m.\u001b[0m\u001b[0msqrt\u001b[0m\u001b[0;34m(\u001b[0m\u001b[0mnp\u001b[0m\u001b[0;34m.\u001b[0m\u001b[0msum\u001b[0m\u001b[0;34m(\u001b[0m\u001b[0;34m(\u001b[0m\u001b[0mpoints\u001b[0m\u001b[0;34m[\u001b[0m\u001b[0mi\u001b[0m\u001b[0;34m]\u001b[0m\u001b[0;34m-\u001b[0m\u001b[0mpoints\u001b[0m\u001b[0;34m[\u001b[0m\u001b[0mj\u001b[0m\u001b[0;34m]\u001b[0m\u001b[0;34m)\u001b[0m\u001b[0;34m**\u001b[0m\u001b[0;36m2\u001b[0m\u001b[0;34m)\u001b[0m\u001b[0;34m)\u001b[0m\u001b[0;34m)\u001b[0m\u001b[0;34m\u001b[0m\u001b[0;34m\u001b[0m\u001b[0m\n\u001b[0m\u001b[1;32m      7\u001b[0m     \u001b[0meucl_dist\u001b[0m\u001b[0;34m.\u001b[0m\u001b[0msort\u001b[0m\u001b[0;34m(\u001b[0m\u001b[0;34m)\u001b[0m\u001b[0;34m\u001b[0m\u001b[0;34m\u001b[0m\u001b[0m\n\u001b[1;32m      8\u001b[0m     \u001b[0;31m# print(eucl_dist)\u001b[0m\u001b[0;34m\u001b[0m\u001b[0;34m\u001b[0m\u001b[0;34m\u001b[0m\u001b[0m\n",
            "\u001b[0;31mKeyboardInterrupt\u001b[0m: "
          ]
        }
      ]
    },
    {
      "cell_type": "code",
      "source": [
        "len(dists)"
      ],
      "metadata": {
        "colab": {
          "base_uri": "https://localhost:8080/"
        },
        "id": "IliDVfLeX3PN",
        "outputId": "44824e69-4579-4433-95f0-46fa7e54577a"
      },
      "execution_count": null,
      "outputs": [
        {
          "output_type": "execute_result",
          "data": {
            "text/plain": [
              "1000"
            ]
          },
          "metadata": {},
          "execution_count": 7
        }
      ]
    },
    {
      "cell_type": "code",
      "source": [
        "plt.hist(dists[0])\n",
        "plt.show()\n",
        "\n",
        "\n",
        "fig, axes = plt.subplots(2, 2)\n",
        "for i in range(4):\n",
        "  axes[i].hist(dists[i+1])\n",
        "fig.tight_layout()\n",
        "fig.grid(axis='y', alpha=0.75)"
      ],
      "metadata": {
        "id": "yQGgmm4CaoIl"
      },
      "execution_count": null,
      "outputs": []
    }
  ]
}