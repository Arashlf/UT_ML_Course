{
  "nbformat": 4,
  "nbformat_minor": 0,
  "metadata": {
    "colab": {
      "name": "Q4-8.ipynb",
      "provenance": [],
      "authorship_tag": "ABX9TyNZLcXP298Q4H/pOIsn4l1M",
      "include_colab_link": true
    },
    "kernelspec": {
      "name": "python3",
      "display_name": "Python 3"
    },
    "language_info": {
      "name": "python"
    }
  },
  "cells": [
    {
      "cell_type": "markdown",
      "metadata": {
        "id": "view-in-github",
        "colab_type": "text"
      },
      "source": [
        "<a href=\"https://colab.research.google.com/github/Arashlf/UT_ML_Course/blob/main/Homework3/Q4_8.ipynb\" target=\"_parent\"><img src=\"https://colab.research.google.com/assets/colab-badge.svg\" alt=\"Open In Colab\"/></a>"
      ]
    },
    {
      "cell_type": "markdown",
      "source": [
        "# ML: Homework 3 - Question 4 through 8\n",
        "## Arash Latifi - 810197576\n",
        "### Srping 2022"
      ],
      "metadata": {
        "id": "V4rzYNGKS6oS"
      }
    },
    {
      "cell_type": "markdown",
      "source": [
        "---"
      ],
      "metadata": {
        "id": "5XVwCRJHS6WD"
      }
    },
    {
      "cell_type": "markdown",
      "source": [
        "## Q4) KNN"
      ],
      "metadata": {
        "id": "nzaRGH7YS_SV"
      }
    },
    {
      "cell_type": "code",
      "source": [
        ""
      ],
      "metadata": {
        "id": "WuRDSHAaS2tk"
      },
      "execution_count": null,
      "outputs": []
    }
  ]
}