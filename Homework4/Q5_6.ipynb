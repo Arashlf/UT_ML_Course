{
  "nbformat": 4,
  "nbformat_minor": 0,
  "metadata": {
    "colab": {
      "name": "Q5-6.ipynb",
      "provenance": [],
      "collapsed_sections": [
        "ao5JGteLBLMV"
      ],
      "authorship_tag": "ABX9TyM0eslMzGEwy8vyjPBSZkG1",
      "include_colab_link": true
    },
    "kernelspec": {
      "name": "python3",
      "display_name": "Python 3"
    },
    "language_info": {
      "name": "python"
    }
  },
  "cells": [
    {
      "cell_type": "markdown",
      "metadata": {
        "id": "view-in-github",
        "colab_type": "text"
      },
      "source": [
        "<a href=\"https://colab.research.google.com/github/Arashlf/UT_ML_Course/blob/main/Homework4/Q5_6.ipynb\" target=\"_parent\"><img src=\"https://colab.research.google.com/assets/colab-badge.svg\" alt=\"Open In Colab\"/></a>"
      ]
    },
    {
      "cell_type": "markdown",
      "source": [
        "# ML: Homework 5 - Question 6 and 6\n",
        "## Arash Latifi - 810197576\n",
        "### Srping 2022"
      ],
      "metadata": {
        "id": "10cb4jn4_u0R"
      }
    },
    {
      "cell_type": "markdown",
      "source": [
        "---"
      ],
      "metadata": {
        "id": "LxR2eLlMAZZB"
      }
    },
    {
      "cell_type": "code",
      "execution_count": null,
      "metadata": {
        "id": "GbP2j06E_Z-o"
      },
      "outputs": [],
      "source": [
        "import matplotlib.pyplot as plt\n",
        "import numpy as np\n",
        "import pandas as pd"
      ]
    },
    {
      "cell_type": "markdown",
      "source": [
        "# Q5) Q5.CSV"
      ],
      "metadata": {
        "id": "tjpReyeb_sQs"
      }
    },
    {
      "cell_type": "markdown",
      "source": [
        "The linear, polynomial and RBF are simply different in case of making the hyperplane decision boundary between the classes.\n",
        "\n",
        "Usually linear and polynomial kernels are *less time consuming* and provides *less accuracy* than the rbf kernels.\n",
        "\n",
        "**Linear**: The linear kernel works fine if your dataset if linearly separable.\n",
        "\n",
        "**Polynomial**: It is quite popular in natural language processing (NLP). The most common degree is d = 2 (quadratic), since larger degrees tend to overfit on NLP problems.\n",
        "\n",
        "**Radial basis function kernel**: It is commonly used in support vector machine classification. It uses when dataset is non-linear and can’t find out the right feature transform or the right kernel to use."
      ],
      "metadata": {
        "id": "XlD7h8aDBhVV"
      }
    },
    {
      "cell_type": "code",
      "source": [
        ""
      ],
      "metadata": {
        "id": "ufEKFdeABKMe"
      },
      "execution_count": null,
      "outputs": []
    },
    {
      "cell_type": "markdown",
      "source": [
        "# Q6) Cancer.CSV"
      ],
      "metadata": {
        "id": "ao5JGteLBLMV"
      }
    },
    {
      "cell_type": "code",
      "source": [
        ""
      ],
      "metadata": {
        "id": "vkDTB0XyBO_G"
      },
      "execution_count": null,
      "outputs": []
    }
  ]
}