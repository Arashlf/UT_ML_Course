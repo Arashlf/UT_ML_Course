{
  "nbformat": 4,
  "nbformat_minor": 0,
  "metadata": {
    "colab": {
      "name": "Q5-6.ipynb",
      "provenance": [],
      "collapsed_sections": [
        "ORpFp85WLFXO",
        "ah6P7NfqLgvw",
        "xobXCSA_Lixw",
        "fZHry7DaLi53"
      ],
      "authorship_tag": "ABX9TyPg/YjhuSh6syAQ2eKQV0/Y",
      "include_colab_link": true
    },
    "kernelspec": {
      "name": "python3",
      "display_name": "Python 3"
    },
    "language_info": {
      "name": "python"
    }
  },
  "cells": [
    {
      "cell_type": "markdown",
      "metadata": {
        "id": "view-in-github",
        "colab_type": "text"
      },
      "source": [
        "<a href=\"https://colab.research.google.com/github/Arashlf/UT_ML_Course/blob/main/Homework4/Q5_6.ipynb\" target=\"_parent\"><img src=\"https://colab.research.google.com/assets/colab-badge.svg\" alt=\"Open In Colab\"/></a>"
      ]
    },
    {
      "cell_type": "markdown",
      "source": [
        "# ML: Homework 5 - Question 6 and 6\n",
        "## Arash Latifi - 810197576\n",
        "### Srping 2022"
      ],
      "metadata": {
        "id": "10cb4jn4_u0R"
      }
    },
    {
      "cell_type": "markdown",
      "source": [
        "---"
      ],
      "metadata": {
        "id": "LxR2eLlMAZZB"
      }
    },
    {
      "cell_type": "code",
      "execution_count": null,
      "metadata": {
        "id": "GbP2j06E_Z-o"
      },
      "outputs": [],
      "source": [
        "import matplotlib.pyplot as plt\n",
        "import numpy as np\n",
        "import pandas as pd\n",
        "from sklearn.metrics import accuracy_score, classification_report\n",
        "from sklearn.model_selection import GridSearchCV, train_test_split\n",
        "from sklearn.svm import SVC"
      ]
    },
    {
      "cell_type": "markdown",
      "source": [
        "# Q5) Q5.CSV"
      ],
      "metadata": {
        "id": "tjpReyeb_sQs"
      }
    },
    {
      "cell_type": "markdown",
      "source": [
        "The linear, polynomial and RBF are simply different in case of making the hyperplane decision boundary between the classes.\n",
        "\n",
        "Usually linear and polynomial kernels are *less time consuming* and provides *less accuracy* than the rbf kernels.\n",
        "\n",
        "**Linear**: The linear kernel works fine if your dataset if linearly separable.\n",
        "\n",
        "**Polynomial**: It is quite popular in natural language processing (NLP). The most common degree is d = 2 (quadratic), since larger degrees tend to overfit on NLP problems.\n",
        "\n",
        "**Radial basis function kernel**: It is commonly used in support vector machine classification. It uses when dataset is non-linear and can’t find out the right feature transform or the right kernel to use."
      ],
      "metadata": {
        "id": "XlD7h8aDBhVV"
      }
    },
    {
      "cell_type": "code",
      "source": [
        "df = pd.read_csv('https://raw.githubusercontent.com/Arashlf/UT_ML_Course/main/Homework4/q5.csv')"
      ],
      "metadata": {
        "id": "ufEKFdeABKMe"
      },
      "execution_count": null,
      "outputs": []
    },
    {
      "cell_type": "code",
      "source": [
        "df.head(3)"
      ],
      "metadata": {
        "colab": {
          "base_uri": "https://localhost:8080/",
          "height": 222
        },
        "id": "jCpFoC-4HIle",
        "outputId": "f39ad723-139d-4a08-a9d4-fd6f6b57891d"
      },
      "execution_count": null,
      "outputs": [
        {
          "output_type": "execute_result",
          "data": {
            "text/plain": [
              "    Mean of the integrated profile  \\\n",
              "0                       140.562500   \n",
              "1                       102.507812   \n",
              "2                       103.015625   \n",
              "\n",
              "    Standard deviation of the integrated profile  \\\n",
              "0                                      55.683782   \n",
              "1                                      58.882430   \n",
              "2                                      39.341649   \n",
              "\n",
              "    Excess kurtosis of the integrated profile  \\\n",
              "0                                   -0.234571   \n",
              "1                                    0.465318   \n",
              "2                                    0.323328   \n",
              "\n",
              "    Skewness of the integrated profile   Mean of the DM-SNR curve  \\\n",
              "0                            -0.699648                   3.199833   \n",
              "1                            -0.515088                   1.677258   \n",
              "2                             1.051164                   3.121237   \n",
              "\n",
              "    Standard deviation of the DM-SNR curve  \\\n",
              "0                                19.110426   \n",
              "1                                14.860146   \n",
              "2                                21.744669   \n",
              "\n",
              "    Excess kurtosis of the DM-SNR curve   Skewness of the DM-SNR curve  \\\n",
              "0                              7.975532                      74.242225   \n",
              "1                             10.576487                     127.393580   \n",
              "2                              7.735822                      63.171909   \n",
              "\n",
              "   target_class  \n",
              "0             0  \n",
              "1             0  \n",
              "2             0  "
            ],
            "text/html": [
              "\n",
              "  <div id=\"df-445c8887-a480-438c-adab-2727863c6447\">\n",
              "    <div class=\"colab-df-container\">\n",
              "      <div>\n",
              "<style scoped>\n",
              "    .dataframe tbody tr th:only-of-type {\n",
              "        vertical-align: middle;\n",
              "    }\n",
              "\n",
              "    .dataframe tbody tr th {\n",
              "        vertical-align: top;\n",
              "    }\n",
              "\n",
              "    .dataframe thead th {\n",
              "        text-align: right;\n",
              "    }\n",
              "</style>\n",
              "<table border=\"1\" class=\"dataframe\">\n",
              "  <thead>\n",
              "    <tr style=\"text-align: right;\">\n",
              "      <th></th>\n",
              "      <th>Mean of the integrated profile</th>\n",
              "      <th>Standard deviation of the integrated profile</th>\n",
              "      <th>Excess kurtosis of the integrated profile</th>\n",
              "      <th>Skewness of the integrated profile</th>\n",
              "      <th>Mean of the DM-SNR curve</th>\n",
              "      <th>Standard deviation of the DM-SNR curve</th>\n",
              "      <th>Excess kurtosis of the DM-SNR curve</th>\n",
              "      <th>Skewness of the DM-SNR curve</th>\n",
              "      <th>target_class</th>\n",
              "    </tr>\n",
              "  </thead>\n",
              "  <tbody>\n",
              "    <tr>\n",
              "      <th>0</th>\n",
              "      <td>140.562500</td>\n",
              "      <td>55.683782</td>\n",
              "      <td>-0.234571</td>\n",
              "      <td>-0.699648</td>\n",
              "      <td>3.199833</td>\n",
              "      <td>19.110426</td>\n",
              "      <td>7.975532</td>\n",
              "      <td>74.242225</td>\n",
              "      <td>0</td>\n",
              "    </tr>\n",
              "    <tr>\n",
              "      <th>1</th>\n",
              "      <td>102.507812</td>\n",
              "      <td>58.882430</td>\n",
              "      <td>0.465318</td>\n",
              "      <td>-0.515088</td>\n",
              "      <td>1.677258</td>\n",
              "      <td>14.860146</td>\n",
              "      <td>10.576487</td>\n",
              "      <td>127.393580</td>\n",
              "      <td>0</td>\n",
              "    </tr>\n",
              "    <tr>\n",
              "      <th>2</th>\n",
              "      <td>103.015625</td>\n",
              "      <td>39.341649</td>\n",
              "      <td>0.323328</td>\n",
              "      <td>1.051164</td>\n",
              "      <td>3.121237</td>\n",
              "      <td>21.744669</td>\n",
              "      <td>7.735822</td>\n",
              "      <td>63.171909</td>\n",
              "      <td>0</td>\n",
              "    </tr>\n",
              "  </tbody>\n",
              "</table>\n",
              "</div>\n",
              "      <button class=\"colab-df-convert\" onclick=\"convertToInteractive('df-445c8887-a480-438c-adab-2727863c6447')\"\n",
              "              title=\"Convert this dataframe to an interactive table.\"\n",
              "              style=\"display:none;\">\n",
              "        \n",
              "  <svg xmlns=\"http://www.w3.org/2000/svg\" height=\"24px\"viewBox=\"0 0 24 24\"\n",
              "       width=\"24px\">\n",
              "    <path d=\"M0 0h24v24H0V0z\" fill=\"none\"/>\n",
              "    <path d=\"M18.56 5.44l.94 2.06.94-2.06 2.06-.94-2.06-.94-.94-2.06-.94 2.06-2.06.94zm-11 1L8.5 8.5l.94-2.06 2.06-.94-2.06-.94L8.5 2.5l-.94 2.06-2.06.94zm10 10l.94 2.06.94-2.06 2.06-.94-2.06-.94-.94-2.06-.94 2.06-2.06.94z\"/><path d=\"M17.41 7.96l-1.37-1.37c-.4-.4-.92-.59-1.43-.59-.52 0-1.04.2-1.43.59L10.3 9.45l-7.72 7.72c-.78.78-.78 2.05 0 2.83L4 21.41c.39.39.9.59 1.41.59.51 0 1.02-.2 1.41-.59l7.78-7.78 2.81-2.81c.8-.78.8-2.07 0-2.86zM5.41 20L4 18.59l7.72-7.72 1.47 1.35L5.41 20z\"/>\n",
              "  </svg>\n",
              "      </button>\n",
              "      \n",
              "  <style>\n",
              "    .colab-df-container {\n",
              "      display:flex;\n",
              "      flex-wrap:wrap;\n",
              "      gap: 12px;\n",
              "    }\n",
              "\n",
              "    .colab-df-convert {\n",
              "      background-color: #E8F0FE;\n",
              "      border: none;\n",
              "      border-radius: 50%;\n",
              "      cursor: pointer;\n",
              "      display: none;\n",
              "      fill: #1967D2;\n",
              "      height: 32px;\n",
              "      padding: 0 0 0 0;\n",
              "      width: 32px;\n",
              "    }\n",
              "\n",
              "    .colab-df-convert:hover {\n",
              "      background-color: #E2EBFA;\n",
              "      box-shadow: 0px 1px 2px rgba(60, 64, 67, 0.3), 0px 1px 3px 1px rgba(60, 64, 67, 0.15);\n",
              "      fill: #174EA6;\n",
              "    }\n",
              "\n",
              "    [theme=dark] .colab-df-convert {\n",
              "      background-color: #3B4455;\n",
              "      fill: #D2E3FC;\n",
              "    }\n",
              "\n",
              "    [theme=dark] .colab-df-convert:hover {\n",
              "      background-color: #434B5C;\n",
              "      box-shadow: 0px 1px 3px 1px rgba(0, 0, 0, 0.15);\n",
              "      filter: drop-shadow(0px 1px 2px rgba(0, 0, 0, 0.3));\n",
              "      fill: #FFFFFF;\n",
              "    }\n",
              "  </style>\n",
              "\n",
              "      <script>\n",
              "        const buttonEl =\n",
              "          document.querySelector('#df-445c8887-a480-438c-adab-2727863c6447 button.colab-df-convert');\n",
              "        buttonEl.style.display =\n",
              "          google.colab.kernel.accessAllowed ? 'block' : 'none';\n",
              "\n",
              "        async function convertToInteractive(key) {\n",
              "          const element = document.querySelector('#df-445c8887-a480-438c-adab-2727863c6447');\n",
              "          const dataTable =\n",
              "            await google.colab.kernel.invokeFunction('convertToInteractive',\n",
              "                                                     [key], {});\n",
              "          if (!dataTable) return;\n",
              "\n",
              "          const docLinkHtml = 'Like what you see? Visit the ' +\n",
              "            '<a target=\"_blank\" href=https://colab.research.google.com/notebooks/data_table.ipynb>data table notebook</a>'\n",
              "            + ' to learn more about interactive tables.';\n",
              "          element.innerHTML = '';\n",
              "          dataTable['output_type'] = 'display_data';\n",
              "          await google.colab.output.renderOutput(dataTable, element);\n",
              "          const docLink = document.createElement('div');\n",
              "          docLink.innerHTML = docLinkHtml;\n",
              "          element.appendChild(docLink);\n",
              "        }\n",
              "      </script>\n",
              "    </div>\n",
              "  </div>\n",
              "  "
            ]
          },
          "metadata": {},
          "execution_count": 6
        }
      ]
    },
    {
      "cell_type": "code",
      "source": [
        "X = df.drop('target_class', axis=1)\n",
        "y = df['target_class']"
      ],
      "metadata": {
        "id": "5AjoHjgCJR2M"
      },
      "execution_count": null,
      "outputs": []
    },
    {
      "cell_type": "code",
      "source": [
        "X_train, X_test, y_train, y_test = train_test_split(X, y, test_size = 0.20)"
      ],
      "metadata": {
        "id": "KKwLGxfiJaTm"
      },
      "execution_count": null,
      "outputs": []
    },
    {
      "cell_type": "markdown",
      "source": [
        "### RBF with C = 1, 100, 1000"
      ],
      "metadata": {
        "id": "ORpFp85WLFXO"
      }
    },
    {
      "cell_type": "code",
      "source": [
        "svclassifier_rbf_1 = SVC(kernel='rbf', C=1)\n",
        "svclassifier_rbf_1.fit(X_train, y_train)\n",
        "svclassifier_rbf_100 = SVC(kernel='rbf', C=100)\n",
        "svclassifier_rbf_100.fit(X_train, y_train)\n",
        "svclassifier_rbf_1000 = SVC(kernel='rbf', C=1000)\n",
        "svclassifier_rbf_1000.fit(X_train, y_train)"
      ],
      "metadata": {
        "colab": {
          "base_uri": "https://localhost:8080/"
        },
        "id": "5Dr8jwZ1Jtjw",
        "outputId": "4c94b653-abf7-442e-bb2d-a2c1fb48f976"
      },
      "execution_count": null,
      "outputs": [
        {
          "output_type": "execute_result",
          "data": {
            "text/plain": [
              "SVC(C=1000)"
            ]
          },
          "metadata": {},
          "execution_count": 16
        }
      ]
    },
    {
      "cell_type": "code",
      "source": [
        "y_pred_rbf_1 = svclassifier_rbf_1.predict(X_test)\n",
        "y_pred_rbf_100 = svclassifier_rbf_100.predict(X_test)\n",
        "y_pred_rbf_1000 = svclassifier_rbf_1000.predict(X_test)"
      ],
      "metadata": {
        "id": "CMSHKJ_DJtYz"
      },
      "execution_count": null,
      "outputs": []
    },
    {
      "cell_type": "code",
      "source": [
        "print(accuracy_score(y_test,y_pred_rbf_1))\n",
        "print(accuracy_score(y_test,y_pred_rbf_100))\n",
        "print(accuracy_score(y_test,y_pred_rbf_1000))"
      ],
      "metadata": {
        "colab": {
          "base_uri": "https://localhost:8080/"
        },
        "id": "EnZswBeMK3hF",
        "outputId": "49d5ffb1-5a3d-4de7-f825-25c8c3e07d49"
      },
      "execution_count": null,
      "outputs": [
        {
          "output_type": "stream",
          "name": "stdout",
          "text": [
            "0.9751396648044692\n",
            "0.979050279329609\n",
            "0.9815642458100559\n"
          ]
        }
      ]
    },
    {
      "cell_type": "markdown",
      "source": [
        "### Linear with C = 1, 100, 1000"
      ],
      "metadata": {
        "id": "ah6P7NfqLgvw"
      }
    },
    {
      "cell_type": "code",
      "source": [
        "svclassifier_linear_1 = SVC(kernel='linear', C=1)\n",
        "svclassifier_linear_1.fit(X_train, y_train)\n",
        "svclassifier_linear_100 = SVC(kernel='linear', C=100)\n",
        "svclassifier_linear_100.fit(X_train, y_train)\n",
        "svclassifier_linear_1000 = SVC(kernel='linear', C=1000)\n",
        "svclassifier_linear_1000.fit(X_train, y_train)"
      ],
      "metadata": {
        "colab": {
          "base_uri": "https://localhost:8080/"
        },
        "outputId": "bdd60094-d920-400c-a763-a69534e59190",
        "id": "SGNagkbHLgvw"
      },
      "execution_count": null,
      "outputs": [
        {
          "output_type": "execute_result",
          "data": {
            "text/plain": [
              "SVC(C=1000, kernel='linear')"
            ]
          },
          "metadata": {},
          "execution_count": 19
        }
      ]
    },
    {
      "cell_type": "code",
      "source": [
        "y_pred_linear_1 = svclassifier_linear_1.predict(X_test)\n",
        "y_pred_linear_100 = svclassifier_linear_100.predict(X_test)\n",
        "y_pred_linear_1000 = svclassifier_linear_1000.predict(X_test)"
      ],
      "metadata": {
        "id": "cOp54E4jLgvx"
      },
      "execution_count": null,
      "outputs": []
    },
    {
      "cell_type": "code",
      "source": [
        "print(accuracy_score(y_test,y_pred_linear_1))\n",
        "print(accuracy_score(y_test,y_pred_linear_100))\n",
        "print(accuracy_score(y_test,y_pred_linear_1000))"
      ],
      "metadata": {
        "colab": {
          "base_uri": "https://localhost:8080/"
        },
        "outputId": "50aaaa2e-a133-4d58-cb2f-fa0166a49153",
        "id": "MsXT5F5VLgvx"
      },
      "execution_count": null,
      "outputs": [
        {
          "output_type": "stream",
          "name": "stdout",
          "text": [
            "0.9801675977653631\n",
            "0.9801675977653631\n",
            "0.979050279329609\n"
          ]
        }
      ]
    },
    {
      "cell_type": "markdown",
      "source": [
        "### Polynomial with C = 1, 100"
      ],
      "metadata": {
        "id": "xobXCSA_Lixw"
      }
    },
    {
      "cell_type": "code",
      "source": [
        "svclassifier_poly_1 = SVC(kernel='poly', C=1)\n",
        "svclassifier_poly_1.fit(X_train, y_train)\n",
        "svclassifier_poly_100 = SVC(kernel='poly', C=100)\n",
        "svclassifier_poly_100.fit(X_train, y_train)"
      ],
      "metadata": {
        "colab": {
          "base_uri": "https://localhost:8080/"
        },
        "outputId": "56383313-f873-449d-837b-d5e94282c537",
        "id": "g1U0Ny-_Lixw"
      },
      "execution_count": null,
      "outputs": [
        {
          "output_type": "execute_result",
          "data": {
            "text/plain": [
              "SVC(C=100, kernel='poly')"
            ]
          },
          "metadata": {},
          "execution_count": 26
        }
      ]
    },
    {
      "cell_type": "code",
      "source": [
        "y_pred_poly_1 = svclassifier_poly_1.predict(X_test)\n",
        "y_pred_poly_100 = svclassifier_poly_100.predict(X_test)"
      ],
      "metadata": {
        "id": "-C4avocuLixx"
      },
      "execution_count": null,
      "outputs": []
    },
    {
      "cell_type": "code",
      "source": [
        "print(accuracy_score(y_test,y_pred_poly_1))\n",
        "print(accuracy_score(y_test,y_pred_poly_100))"
      ],
      "metadata": {
        "colab": {
          "base_uri": "https://localhost:8080/"
        },
        "outputId": "29c7e9f7-d00d-4a45-ede5-6e1aff2ca9c3",
        "id": "A1wcIZZILixy"
      },
      "execution_count": null,
      "outputs": [
        {
          "output_type": "stream",
          "name": "stdout",
          "text": [
            "0.9745810055865922\n",
            "0.9770949720670391\n"
          ]
        }
      ]
    },
    {
      "cell_type": "markdown",
      "source": [
        "### Sigmoid with C = 1, 100"
      ],
      "metadata": {
        "id": "fZHry7DaLi53"
      }
    },
    {
      "cell_type": "code",
      "source": [
        "svclassifier_sigmoid_1 = SVC(kernel='sigmoid', C=1)\n",
        "svclassifier_sigmoid_1.fit(X_train, y_train)\n",
        "svclassifier_sigmoid_100 = SVC(kernel='sigmoid', C=100)\n",
        "svclassifier_sigmoid_100.fit(X_train, y_train)"
      ],
      "metadata": {
        "colab": {
          "base_uri": "https://localhost:8080/"
        },
        "outputId": "008bbad2-d66b-499e-c3ca-3b33c17362af",
        "id": "O1UmgspnLi54"
      },
      "execution_count": null,
      "outputs": [
        {
          "output_type": "execute_result",
          "data": {
            "text/plain": [
              "SVC(C=100, kernel='sigmoid')"
            ]
          },
          "metadata": {},
          "execution_count": 29
        }
      ]
    },
    {
      "cell_type": "code",
      "source": [
        "y_pred_sigmoid_1 = svclassifier_sigmoid_1.predict(X_test)\n",
        "y_pred_sigmoid_100 = svclassifier_sigmoid_100.predict(X_test)"
      ],
      "metadata": {
        "id": "28N5WaTsLi54"
      },
      "execution_count": null,
      "outputs": []
    },
    {
      "cell_type": "code",
      "source": [
        "print(accuracy_score(y_test,y_pred_sigmoid_1))\n",
        "print(accuracy_score(y_test,y_pred_sigmoid_100))"
      ],
      "metadata": {
        "colab": {
          "base_uri": "https://localhost:8080/"
        },
        "outputId": "fc74b504-0426-43b0-9009-61dfddac33f4",
        "id": "WwZaPTsKLi55"
      },
      "execution_count": null,
      "outputs": [
        {
          "output_type": "stream",
          "name": "stdout",
          "text": [
            "0.9268156424581006\n",
            "0.9231843575418994\n"
          ]
        }
      ]
    },
    {
      "cell_type": "markdown",
      "source": [
        "### Results:\n",
        "| Kernel  | C    | Accuracy |\n",
        "| ---     | ---  | ---    |\n",
        "| RBF     | 1    | 0.9751 |\n",
        "| RBF     | 100  | 0.9791 |\n",
        "| RBF     | 1000 | 0.9816 |\n",
        "| Linear  | 1    | 0.9802 |\n",
        "| Linear  | 100  | 0.9802 |\n",
        "| Linear  | 1000 | 0.9791 |\n",
        "| Poly    | 1    | 0.9746 |\n",
        "| Poly    | 100  | 0.9771 |\n",
        "| Sigmoid | 1    | 0.9268 |\n",
        "| Sigmoid | 100  | 0.9232 |\n",
        "\n",
        "According to the table, the best estimator is Linear with paramet C=1 (or C=100)."
      ],
      "metadata": {
        "id": "4G24LxhhMIRp"
      }
    },
    {
      "cell_type": "markdown",
      "source": [
        "### Grid Search)"
      ],
      "metadata": {
        "id": "Xcoieo7WQlCQ"
      }
    },
    {
      "cell_type": "code",
      "source": [
        "# defining parameter range\n",
        "param_grid_rbf = {'C': [1, 10, 100, 500],\n",
        "                  'gamma': [0.1, 0.3, 0.5, 0.7, 0.9],\n",
        "                  'kernel': ['rbf']}\n",
        "param_grid_linear = {'C': [1, 10, 100, 1000],\n",
        "                  'kernel': ['linear']}\n",
        "param_grid_poly = {'C': [1, 10, 100, 500],\n",
        "                  'gamma': [0.01, 0.03, 0.05],\n",
        "                  'degree': [2, 3, 4],\n",
        "                  'kernel': ['poly']}"
      ],
      "metadata": {
        "id": "vyjKQT1tQuSR"
      },
      "execution_count": null,
      "outputs": []
    },
    {
      "cell_type": "markdown",
      "source": [
        "#### RBF:"
      ],
      "metadata": {
        "id": "mtaM43bCS9NU"
      }
    },
    {
      "cell_type": "code",
      "source": [
        "grid_rbf = GridSearchCV(SVC(), param_grid_rbf, refit = True, verbose = 3)\n",
        "grid_rbf.fit(X_train, y_train)"
      ],
      "metadata": {
        "colab": {
          "base_uri": "https://localhost:8080/"
        },
        "id": "qe8P4Y5SRUpr",
        "outputId": "e1a12393-3a64-4328-b4d8-968c267a1e94"
      },
      "execution_count": null,
      "outputs": [
        {
          "output_type": "stream",
          "name": "stdout",
          "text": [
            "Fitting 5 folds for each of 20 candidates, totalling 100 fits\n",
            "[CV 1/5] END ........C=1, gamma=0.1, kernel=rbf;, score=0.911 total time=  18.2s\n",
            "[CV 2/5] END ........C=1, gamma=0.1, kernel=rbf;, score=0.910 total time=  17.9s\n",
            "[CV 3/5] END ........C=1, gamma=0.1, kernel=rbf;, score=0.911 total time=  17.8s\n",
            "[CV 4/5] END ........C=1, gamma=0.1, kernel=rbf;, score=0.912 total time=  17.8s\n",
            "[CV 5/5] END ........C=1, gamma=0.1, kernel=rbf;, score=0.911 total time=  17.8s\n",
            "[CV 1/5] END ........C=1, gamma=0.3, kernel=rbf;, score=0.907 total time=  19.3s\n",
            "[CV 2/5] END ........C=1, gamma=0.3, kernel=rbf;, score=0.907 total time=  19.1s\n",
            "[CV 3/5] END ........C=1, gamma=0.3, kernel=rbf;, score=0.907 total time=  19.2s\n",
            "[CV 4/5] END ........C=1, gamma=0.3, kernel=rbf;, score=0.908 total time=  29.1s\n",
            "[CV 5/5] END ........C=1, gamma=0.3, kernel=rbf;, score=0.907 total time=  21.2s\n",
            "[CV 1/5] END ........C=1, gamma=0.5, kernel=rbf;, score=0.907 total time=  30.0s\n",
            "[CV 2/5] END ........C=1, gamma=0.5, kernel=rbf;, score=0.907 total time=  34.3s\n",
            "[CV 3/5] END ........C=1, gamma=0.5, kernel=rbf;, score=0.907 total time=  30.1s\n",
            "[CV 4/5] END ........C=1, gamma=0.5, kernel=rbf;, score=0.908 total time=  23.0s\n",
            "[CV 5/5] END ........C=1, gamma=0.5, kernel=rbf;, score=0.907 total time=  23.2s\n",
            "[CV 1/5] END ........C=1, gamma=0.7, kernel=rbf;, score=0.907 total time=  25.7s\n",
            "[CV 2/5] END ........C=1, gamma=0.7, kernel=rbf;, score=0.907 total time=  29.2s\n",
            "[CV 3/5] END ........C=1, gamma=0.7, kernel=rbf;, score=0.907 total time=  23.5s\n",
            "[CV 4/5] END ........C=1, gamma=0.7, kernel=rbf;, score=0.908 total time=  23.3s\n",
            "[CV 5/5] END ........C=1, gamma=0.7, kernel=rbf;, score=0.907 total time=  23.5s\n",
            "[CV 1/5] END ........C=1, gamma=0.9, kernel=rbf;, score=0.907 total time=  34.3s\n",
            "[CV 2/5] END ........C=1, gamma=0.9, kernel=rbf;, score=0.907 total time=  24.0s\n",
            "[CV 3/5] END ........C=1, gamma=0.9, kernel=rbf;, score=0.907 total time=  24.2s\n",
            "[CV 4/5] END ........C=1, gamma=0.9, kernel=rbf;, score=0.908 total time=  24.4s\n",
            "[CV 5/5] END ........C=1, gamma=0.9, kernel=rbf;, score=0.907 total time=  25.2s\n",
            "[CV 1/5] END .......C=10, gamma=0.1, kernel=rbf;, score=0.915 total time=  20.8s\n",
            "[CV 2/5] END .......C=10, gamma=0.1, kernel=rbf;, score=0.911 total time=  20.4s\n",
            "[CV 3/5] END .......C=10, gamma=0.1, kernel=rbf;, score=0.912 total time=  20.3s\n",
            "[CV 4/5] END .......C=10, gamma=0.1, kernel=rbf;, score=0.917 total time=  21.1s\n",
            "[CV 5/5] END .......C=10, gamma=0.1, kernel=rbf;, score=0.911 total time=  20.7s\n",
            "[CV 1/5] END .......C=10, gamma=0.3, kernel=rbf;, score=0.907 total time=  27.0s\n",
            "[CV 2/5] END .......C=10, gamma=0.3, kernel=rbf;, score=0.907 total time=  26.7s\n",
            "[CV 3/5] END .......C=10, gamma=0.3, kernel=rbf;, score=0.906 total time=  26.7s\n",
            "[CV 4/5] END .......C=10, gamma=0.3, kernel=rbf;, score=0.908 total time=  26.9s\n",
            "[CV 5/5] END .......C=10, gamma=0.3, kernel=rbf;, score=0.907 total time=  26.7s\n",
            "[CV 1/5] END .......C=10, gamma=0.5, kernel=rbf;, score=0.907 total time=  24.2s\n",
            "[CV 2/5] END .......C=10, gamma=0.5, kernel=rbf;, score=0.907 total time=  24.0s\n",
            "[CV 3/5] END .......C=10, gamma=0.5, kernel=rbf;, score=0.907 total time=  24.1s\n",
            "[CV 4/5] END .......C=10, gamma=0.5, kernel=rbf;, score=0.908 total time=  24.0s\n",
            "[CV 5/5] END .......C=10, gamma=0.5, kernel=rbf;, score=0.907 total time=  24.1s\n",
            "[CV 1/5] END .......C=10, gamma=0.7, kernel=rbf;, score=0.907 total time=  25.1s\n",
            "[CV 2/5] END .......C=10, gamma=0.7, kernel=rbf;, score=0.907 total time=  24.8s\n",
            "[CV 3/5] END .......C=10, gamma=0.7, kernel=rbf;, score=0.907 total time=  25.0s\n",
            "[CV 4/5] END .......C=10, gamma=0.7, kernel=rbf;, score=0.908 total time=  24.9s\n",
            "[CV 5/5] END .......C=10, gamma=0.7, kernel=rbf;, score=0.907 total time=  24.9s\n",
            "[CV 1/5] END .......C=10, gamma=0.9, kernel=rbf;, score=0.907 total time=  23.5s\n",
            "[CV 2/5] END .......C=10, gamma=0.9, kernel=rbf;, score=0.907 total time=  23.2s\n",
            "[CV 3/5] END .......C=10, gamma=0.9, kernel=rbf;, score=0.907 total time=  23.4s\n",
            "[CV 4/5] END .......C=10, gamma=0.9, kernel=rbf;, score=0.908 total time=  23.7s\n",
            "[CV 5/5] END .......C=10, gamma=0.9, kernel=rbf;, score=0.907 total time=  23.4s\n",
            "[CV 1/5] END ......C=100, gamma=0.1, kernel=rbf;, score=0.915 total time=  20.4s\n",
            "[CV 2/5] END ......C=100, gamma=0.1, kernel=rbf;, score=0.911 total time=  20.2s\n",
            "[CV 3/5] END ......C=100, gamma=0.1, kernel=rbf;, score=0.912 total time=  20.4s\n",
            "[CV 4/5] END ......C=100, gamma=0.1, kernel=rbf;, score=0.917 total time=  20.5s\n",
            "[CV 5/5] END ......C=100, gamma=0.1, kernel=rbf;, score=0.911 total time=  20.7s\n",
            "[CV 1/5] END ......C=100, gamma=0.3, kernel=rbf;, score=0.907 total time=  27.2s\n",
            "[CV 2/5] END ......C=100, gamma=0.3, kernel=rbf;, score=0.907 total time=  26.7s\n",
            "[CV 3/5] END ......C=100, gamma=0.3, kernel=rbf;, score=0.906 total time=  26.7s\n",
            "[CV 4/5] END ......C=100, gamma=0.3, kernel=rbf;, score=0.908 total time=  26.8s\n",
            "[CV 5/5] END ......C=100, gamma=0.3, kernel=rbf;, score=0.907 total time=  26.6s\n",
            "[CV 1/5] END ......C=100, gamma=0.5, kernel=rbf;, score=0.907 total time=  24.1s\n",
            "[CV 2/5] END ......C=100, gamma=0.5, kernel=rbf;, score=0.907 total time=  23.9s\n",
            "[CV 3/5] END ......C=100, gamma=0.5, kernel=rbf;, score=0.907 total time=  24.1s\n",
            "[CV 4/5] END ......C=100, gamma=0.5, kernel=rbf;, score=0.908 total time=  24.0s\n",
            "[CV 5/5] END ......C=100, gamma=0.5, kernel=rbf;, score=0.907 total time=  24.1s\n",
            "[CV 1/5] END ......C=100, gamma=0.7, kernel=rbf;, score=0.907 total time=  25.1s\n",
            "[CV 2/5] END ......C=100, gamma=0.7, kernel=rbf;, score=0.907 total time=  24.8s\n",
            "[CV 3/5] END ......C=100, gamma=0.7, kernel=rbf;, score=0.907 total time=  25.1s\n",
            "[CV 4/5] END ......C=100, gamma=0.7, kernel=rbf;, score=0.908 total time=  25.0s\n",
            "[CV 5/5] END ......C=100, gamma=0.7, kernel=rbf;, score=0.907 total time=  24.9s\n",
            "[CV 1/5] END ......C=100, gamma=0.9, kernel=rbf;, score=0.907 total time=  23.5s\n",
            "[CV 2/5] END ......C=100, gamma=0.9, kernel=rbf;, score=0.907 total time=  23.3s\n",
            "[CV 3/5] END ......C=100, gamma=0.9, kernel=rbf;, score=0.907 total time=  23.4s\n",
            "[CV 4/5] END ......C=100, gamma=0.9, kernel=rbf;, score=0.908 total time=  23.7s\n",
            "[CV 5/5] END ......C=100, gamma=0.9, kernel=rbf;, score=0.907 total time=  23.4s\n",
            "[CV 1/5] END ......C=500, gamma=0.1, kernel=rbf;, score=0.915 total time=  20.5s\n",
            "[CV 2/5] END ......C=500, gamma=0.1, kernel=rbf;, score=0.911 total time=  20.2s\n",
            "[CV 3/5] END ......C=500, gamma=0.1, kernel=rbf;, score=0.912 total time=  20.4s\n",
            "[CV 4/5] END ......C=500, gamma=0.1, kernel=rbf;, score=0.917 total time=  20.3s\n",
            "[CV 5/5] END ......C=500, gamma=0.1, kernel=rbf;, score=0.911 total time=  20.6s\n",
            "[CV 1/5] END ......C=500, gamma=0.3, kernel=rbf;, score=0.907 total time=  26.9s\n",
            "[CV 2/5] END ......C=500, gamma=0.3, kernel=rbf;, score=0.907 total time=  26.7s\n",
            "[CV 3/5] END ......C=500, gamma=0.3, kernel=rbf;, score=0.906 total time=  26.7s\n",
            "[CV 4/5] END ......C=500, gamma=0.3, kernel=rbf;, score=0.908 total time=  26.9s\n",
            "[CV 5/5] END ......C=500, gamma=0.3, kernel=rbf;, score=0.907 total time=  26.7s\n",
            "[CV 1/5] END ......C=500, gamma=0.5, kernel=rbf;, score=0.907 total time=  24.1s\n",
            "[CV 2/5] END ......C=500, gamma=0.5, kernel=rbf;, score=0.907 total time=  23.9s\n",
            "[CV 3/5] END ......C=500, gamma=0.5, kernel=rbf;, score=0.907 total time=  24.1s\n",
            "[CV 4/5] END ......C=500, gamma=0.5, kernel=rbf;, score=0.908 total time=  24.0s\n",
            "[CV 5/5] END ......C=500, gamma=0.5, kernel=rbf;, score=0.907 total time=  24.1s\n",
            "[CV 1/5] END ......C=500, gamma=0.7, kernel=rbf;, score=0.907 total time=  25.1s\n",
            "[CV 2/5] END ......C=500, gamma=0.7, kernel=rbf;, score=0.907 total time=  24.8s\n",
            "[CV 3/5] END ......C=500, gamma=0.7, kernel=rbf;, score=0.907 total time=  25.0s\n",
            "[CV 4/5] END ......C=500, gamma=0.7, kernel=rbf;, score=0.908 total time=  25.0s\n",
            "[CV 5/5] END ......C=500, gamma=0.7, kernel=rbf;, score=0.907 total time=  24.9s\n",
            "[CV 1/5] END ......C=500, gamma=0.9, kernel=rbf;, score=0.907 total time=  23.5s\n",
            "[CV 2/5] END ......C=500, gamma=0.9, kernel=rbf;, score=0.907 total time=  23.3s\n",
            "[CV 3/5] END ......C=500, gamma=0.9, kernel=rbf;, score=0.907 total time=  23.4s\n",
            "[CV 4/5] END ......C=500, gamma=0.9, kernel=rbf;, score=0.908 total time=  23.7s\n",
            "[CV 5/5] END ......C=500, gamma=0.9, kernel=rbf;, score=0.907 total time=  23.4s\n"
          ]
        },
        {
          "output_type": "execute_result",
          "data": {
            "text/plain": [
              "GridSearchCV(estimator=SVC(),\n",
              "             param_grid={'C': [1, 10, 100, 500],\n",
              "                         'gamma': [0.1, 0.3, 0.5, 0.7, 0.9],\n",
              "                         'kernel': ['rbf']},\n",
              "             verbose=3)"
            ]
          },
          "metadata": {},
          "execution_count": 38
        }
      ]
    },
    {
      "cell_type": "code",
      "source": [
        "# print best parameter after tuning\n",
        "print(grid_rbf.best_params_)\n",
        " \n",
        "# print how our model looks after hyper-parameter tuning\n",
        "print(grid_rbf.best_estimator_)"
      ],
      "metadata": {
        "colab": {
          "base_uri": "https://localhost:8080/"
        },
        "id": "DISY_DLQSJcn",
        "outputId": "67c35c00-5bbb-41f3-fb45-0bf311e57ac4"
      },
      "execution_count": null,
      "outputs": [
        {
          "output_type": "stream",
          "name": "stdout",
          "text": [
            "{'C': 10, 'gamma': 0.1, 'kernel': 'rbf'}\n",
            "SVC(C=10, gamma=0.1)\n"
          ]
        }
      ]
    },
    {
      "cell_type": "code",
      "source": [
        "grid_predictions_rbf = grid_rbf.predict(X_test)\n",
        " \n",
        "# print classification report\n",
        "print(classification_report(y_test, grid_predictions_rbf))"
      ],
      "metadata": {
        "id": "smBiHFHqSxaH",
        "colab": {
          "base_uri": "https://localhost:8080/"
        },
        "outputId": "aaf827ef-e5c8-46c6-ebeb-31653445a11b"
      },
      "execution_count": null,
      "outputs": [
        {
          "output_type": "stream",
          "name": "stdout",
          "text": [
            "              precision    recall  f1-score   support\n",
            "\n",
            "           0       0.92      0.99      0.96      3265\n",
            "           1       0.66      0.12      0.21       315\n",
            "\n",
            "    accuracy                           0.92      3580\n",
            "   macro avg       0.79      0.56      0.58      3580\n",
            "weighted avg       0.90      0.92      0.89      3580\n",
            "\n"
          ]
        }
      ]
    },
    {
      "cell_type": "markdown",
      "source": [
        "#### Linear:"
      ],
      "metadata": {
        "id": "eORSkqVyTAuJ"
      }
    },
    {
      "cell_type": "code",
      "source": [
        "grid_linear  = GridSearchCV(SVC(), param_grid_linear , refit = True, verbose = 3)\n",
        "grid_linear.fit(X_train, y_train)"
      ],
      "metadata": {
        "colab": {
          "base_uri": "https://localhost:8080/"
        },
        "id": "bk65MBUcR5YH",
        "outputId": "c6c03588-6c7b-4b0c-ff16-9e10db679173"
      },
      "execution_count": null,
      "outputs": [
        {
          "output_type": "stream",
          "name": "stdout",
          "text": [
            "Fitting 5 folds for each of 4 candidates, totalling 20 fits\n",
            "[CV 1/5] END ................C=1, kernel=linear;, score=0.975 total time=  15.4s\n",
            "[CV 2/5] END ................C=1, kernel=linear;, score=0.980 total time=  16.2s\n",
            "[CV 3/5] END ................C=1, kernel=linear;, score=0.978 total time=  13.9s\n",
            "[CV 4/5] END ................C=1, kernel=linear;, score=0.984 total time=  19.8s\n",
            "[CV 5/5] END ................C=1, kernel=linear;, score=0.978 total time=  14.4s\n",
            "[CV 1/5] END ...............C=10, kernel=linear;, score=0.975 total time= 1.5min\n",
            "[CV 2/5] END ...............C=10, kernel=linear;, score=0.981 total time= 1.6min\n",
            "[CV 3/5] END ...............C=10, kernel=linear;, score=0.978 total time= 1.9min\n",
            "[CV 4/5] END ...............C=10, kernel=linear;, score=0.984 total time= 1.8min\n",
            "[CV 5/5] END ...............C=10, kernel=linear;, score=0.978 total time= 1.6min\n",
            "[CV 1/5] END ..............C=100, kernel=linear;, score=0.973 total time= 4.3min\n",
            "[CV 2/5] END ..............C=100, kernel=linear;, score=0.981 total time= 4.8min\n",
            "[CV 3/5] END ..............C=100, kernel=linear;, score=0.978 total time= 5.1min\n",
            "[CV 4/5] END ..............C=100, kernel=linear;, score=0.984 total time= 6.0min\n",
            "[CV 5/5] END ..............C=100, kernel=linear;, score=0.978 total time= 4.2min\n",
            "[CV 1/5] END .............C=1000, kernel=linear;, score=0.973 total time= 5.5min\n",
            "[CV 2/5] END .............C=1000, kernel=linear;, score=0.981 total time= 6.8min\n",
            "[CV 3/5] END .............C=1000, kernel=linear;, score=0.977 total time= 6.3min\n",
            "[CV 4/5] END .............C=1000, kernel=linear;, score=0.984 total time= 6.4min\n",
            "[CV 5/5] END .............C=1000, kernel=linear;, score=0.979 total time= 5.5min\n"
          ]
        },
        {
          "output_type": "execute_result",
          "data": {
            "text/plain": [
              "GridSearchCV(estimator=SVC(),\n",
              "             param_grid={'C': [1, 10, 100, 1000], 'kernel': ['linear']},\n",
              "             verbose=3)"
            ]
          },
          "metadata": {},
          "execution_count": 42
        }
      ]
    },
    {
      "cell_type": "code",
      "source": [
        "# print best parameter after tuning\n",
        "print(grid_linear.best_params_)\n",
        " \n",
        "# print how our model looks after hyper-parameter tuning\n",
        "print(grid_linear.best_estimator_)"
      ],
      "metadata": {
        "colab": {
          "base_uri": "https://localhost:8080/"
        },
        "id": "ZmPI87FETGfJ",
        "outputId": "fb56499d-c59d-4566-8cba-ff0a8866254c"
      },
      "execution_count": null,
      "outputs": [
        {
          "output_type": "stream",
          "name": "stdout",
          "text": [
            "{'C': 10, 'kernel': 'linear'}\n",
            "SVC(C=10, kernel='linear')\n"
          ]
        }
      ]
    },
    {
      "cell_type": "code",
      "source": [
        "grid_predictions_linear = grid_linear.predict(X_test)\n",
        " \n",
        "# print classification report\n",
        "print(classification_report(y_test, grid_predictions_linear))"
      ],
      "metadata": {
        "colab": {
          "base_uri": "https://localhost:8080/"
        },
        "id": "25cO81x9TGZb",
        "outputId": "34a04f3d-5b80-4210-f20a-9cc42d4b6b6a"
      },
      "execution_count": null,
      "outputs": [
        {
          "output_type": "stream",
          "name": "stdout",
          "text": [
            "              precision    recall  f1-score   support\n",
            "\n",
            "           0       0.98      0.99      0.99      3265\n",
            "           1       0.93      0.84      0.88       315\n",
            "\n",
            "    accuracy                           0.98      3580\n",
            "   macro avg       0.96      0.92      0.94      3580\n",
            "weighted avg       0.98      0.98      0.98      3580\n",
            "\n"
          ]
        }
      ]
    },
    {
      "cell_type": "markdown",
      "source": [
        "#### Polynomial:"
      ],
      "metadata": {
        "id": "VaQoK-9YTB9A"
      }
    },
    {
      "cell_type": "code",
      "source": [
        "grid_poly = GridSearchCV(SVC(), param_grid_poly, refit = True, verbose = 3)\n",
        "grid_poly.fit(X_train, y_train)"
      ],
      "metadata": {
        "colab": {
          "base_uri": "https://localhost:8080/",
          "height": 416
        },
        "id": "kJuiY4huR5Pp",
        "outputId": "b4bcc3e9-384b-42f5-9a99-17a623d031ad"
      },
      "execution_count": null,
      "outputs": [
        {
          "output_type": "stream",
          "name": "stdout",
          "text": [
            "Fitting 5 folds for each of 36 candidates, totalling 180 fits\n",
            "[CV 1/5] END C=1, degree=2, gamma=0.01, kernel=poly;, score=0.976 total time= 2.6min\n",
            "[CV 2/5] END C=1, degree=2, gamma=0.01, kernel=poly;, score=0.981 total time= 4.2min\n",
            "[CV 3/5] END C=1, degree=2, gamma=0.01, kernel=poly;, score=0.979 total time= 3.5min\n",
            "[CV 4/5] END C=1, degree=2, gamma=0.01, kernel=poly;, score=0.984 total time= 2.0min\n"
          ]
        },
        {
          "output_type": "error",
          "ename": "KeyboardInterrupt",
          "evalue": "ignored",
          "traceback": [
            "\u001b[0;31m---------------------------------------------------------------------------\u001b[0m",
            "\u001b[0;31mKeyboardInterrupt\u001b[0m                         Traceback (most recent call last)",
            "\u001b[0;32m<ipython-input-45-27d215366ce5>\u001b[0m in \u001b[0;36m<module>\u001b[0;34m()\u001b[0m\n\u001b[1;32m      1\u001b[0m \u001b[0mgrid_poly\u001b[0m \u001b[0;34m=\u001b[0m \u001b[0mGridSearchCV\u001b[0m\u001b[0;34m(\u001b[0m\u001b[0mSVC\u001b[0m\u001b[0;34m(\u001b[0m\u001b[0;34m)\u001b[0m\u001b[0;34m,\u001b[0m \u001b[0mparam_grid_poly\u001b[0m\u001b[0;34m,\u001b[0m \u001b[0mrefit\u001b[0m \u001b[0;34m=\u001b[0m \u001b[0;32mTrue\u001b[0m\u001b[0;34m,\u001b[0m \u001b[0mverbose\u001b[0m \u001b[0;34m=\u001b[0m \u001b[0;36m3\u001b[0m\u001b[0;34m)\u001b[0m\u001b[0;34m\u001b[0m\u001b[0;34m\u001b[0m\u001b[0m\n\u001b[0;32m----> 2\u001b[0;31m \u001b[0mgrid_poly\u001b[0m\u001b[0;34m.\u001b[0m\u001b[0mfit\u001b[0m\u001b[0;34m(\u001b[0m\u001b[0mX_train\u001b[0m\u001b[0;34m,\u001b[0m \u001b[0my_train\u001b[0m\u001b[0;34m)\u001b[0m\u001b[0;34m\u001b[0m\u001b[0;34m\u001b[0m\u001b[0m\n\u001b[0m",
            "\u001b[0;32m/usr/local/lib/python3.7/dist-packages/sklearn/model_selection/_search.py\u001b[0m in \u001b[0;36mfit\u001b[0;34m(self, X, y, groups, **fit_params)\u001b[0m\n\u001b[1;32m    889\u001b[0m                 \u001b[0;32mreturn\u001b[0m \u001b[0mresults\u001b[0m\u001b[0;34m\u001b[0m\u001b[0;34m\u001b[0m\u001b[0m\n\u001b[1;32m    890\u001b[0m \u001b[0;34m\u001b[0m\u001b[0m\n\u001b[0;32m--> 891\u001b[0;31m             \u001b[0mself\u001b[0m\u001b[0;34m.\u001b[0m\u001b[0m_run_search\u001b[0m\u001b[0;34m(\u001b[0m\u001b[0mevaluate_candidates\u001b[0m\u001b[0;34m)\u001b[0m\u001b[0;34m\u001b[0m\u001b[0;34m\u001b[0m\u001b[0m\n\u001b[0m\u001b[1;32m    892\u001b[0m \u001b[0;34m\u001b[0m\u001b[0m\n\u001b[1;32m    893\u001b[0m             \u001b[0;31m# multimetric is determined here because in the case of a callable\u001b[0m\u001b[0;34m\u001b[0m\u001b[0;34m\u001b[0m\u001b[0;34m\u001b[0m\u001b[0m\n",
            "\u001b[0;32m/usr/local/lib/python3.7/dist-packages/sklearn/model_selection/_search.py\u001b[0m in \u001b[0;36m_run_search\u001b[0;34m(self, evaluate_candidates)\u001b[0m\n\u001b[1;32m   1390\u001b[0m     \u001b[0;32mdef\u001b[0m \u001b[0m_run_search\u001b[0m\u001b[0;34m(\u001b[0m\u001b[0mself\u001b[0m\u001b[0;34m,\u001b[0m \u001b[0mevaluate_candidates\u001b[0m\u001b[0;34m)\u001b[0m\u001b[0;34m:\u001b[0m\u001b[0;34m\u001b[0m\u001b[0;34m\u001b[0m\u001b[0m\n\u001b[1;32m   1391\u001b[0m         \u001b[0;34m\"\"\"Search all candidates in param_grid\"\"\"\u001b[0m\u001b[0;34m\u001b[0m\u001b[0;34m\u001b[0m\u001b[0m\n\u001b[0;32m-> 1392\u001b[0;31m         \u001b[0mevaluate_candidates\u001b[0m\u001b[0;34m(\u001b[0m\u001b[0mParameterGrid\u001b[0m\u001b[0;34m(\u001b[0m\u001b[0mself\u001b[0m\u001b[0;34m.\u001b[0m\u001b[0mparam_grid\u001b[0m\u001b[0;34m)\u001b[0m\u001b[0;34m)\u001b[0m\u001b[0;34m\u001b[0m\u001b[0;34m\u001b[0m\u001b[0m\n\u001b[0m\u001b[1;32m   1393\u001b[0m \u001b[0;34m\u001b[0m\u001b[0m\n\u001b[1;32m   1394\u001b[0m \u001b[0;34m\u001b[0m\u001b[0m\n",
            "\u001b[0;32m/usr/local/lib/python3.7/dist-packages/sklearn/model_selection/_search.py\u001b[0m in \u001b[0;36mevaluate_candidates\u001b[0;34m(candidate_params, cv, more_results)\u001b[0m\n\u001b[1;32m    849\u001b[0m                     )\n\u001b[1;32m    850\u001b[0m                     for (cand_idx, parameters), (split_idx, (train, test)) in product(\n\u001b[0;32m--> 851\u001b[0;31m                         \u001b[0menumerate\u001b[0m\u001b[0;34m(\u001b[0m\u001b[0mcandidate_params\u001b[0m\u001b[0;34m)\u001b[0m\u001b[0;34m,\u001b[0m \u001b[0menumerate\u001b[0m\u001b[0;34m(\u001b[0m\u001b[0mcv\u001b[0m\u001b[0;34m.\u001b[0m\u001b[0msplit\u001b[0m\u001b[0;34m(\u001b[0m\u001b[0mX\u001b[0m\u001b[0;34m,\u001b[0m \u001b[0my\u001b[0m\u001b[0;34m,\u001b[0m \u001b[0mgroups\u001b[0m\u001b[0;34m)\u001b[0m\u001b[0;34m)\u001b[0m\u001b[0;34m\u001b[0m\u001b[0;34m\u001b[0m\u001b[0m\n\u001b[0m\u001b[1;32m    852\u001b[0m                     )\n\u001b[1;32m    853\u001b[0m                 )\n",
            "\u001b[0;32m/usr/local/lib/python3.7/dist-packages/joblib/parallel.py\u001b[0m in \u001b[0;36m__call__\u001b[0;34m(self, iterable)\u001b[0m\n\u001b[1;32m   1044\u001b[0m                 \u001b[0mself\u001b[0m\u001b[0;34m.\u001b[0m\u001b[0m_iterating\u001b[0m \u001b[0;34m=\u001b[0m \u001b[0mself\u001b[0m\u001b[0;34m.\u001b[0m\u001b[0m_original_iterator\u001b[0m \u001b[0;32mis\u001b[0m \u001b[0;32mnot\u001b[0m \u001b[0;32mNone\u001b[0m\u001b[0;34m\u001b[0m\u001b[0;34m\u001b[0m\u001b[0m\n\u001b[1;32m   1045\u001b[0m \u001b[0;34m\u001b[0m\u001b[0m\n\u001b[0;32m-> 1046\u001b[0;31m             \u001b[0;32mwhile\u001b[0m \u001b[0mself\u001b[0m\u001b[0;34m.\u001b[0m\u001b[0mdispatch_one_batch\u001b[0m\u001b[0;34m(\u001b[0m\u001b[0miterator\u001b[0m\u001b[0;34m)\u001b[0m\u001b[0;34m:\u001b[0m\u001b[0;34m\u001b[0m\u001b[0;34m\u001b[0m\u001b[0m\n\u001b[0m\u001b[1;32m   1047\u001b[0m                 \u001b[0;32mpass\u001b[0m\u001b[0;34m\u001b[0m\u001b[0;34m\u001b[0m\u001b[0m\n\u001b[1;32m   1048\u001b[0m \u001b[0;34m\u001b[0m\u001b[0m\n",
            "\u001b[0;32m/usr/local/lib/python3.7/dist-packages/joblib/parallel.py\u001b[0m in \u001b[0;36mdispatch_one_batch\u001b[0;34m(self, iterator)\u001b[0m\n\u001b[1;32m    859\u001b[0m                 \u001b[0;32mreturn\u001b[0m \u001b[0;32mFalse\u001b[0m\u001b[0;34m\u001b[0m\u001b[0;34m\u001b[0m\u001b[0m\n\u001b[1;32m    860\u001b[0m             \u001b[0;32melse\u001b[0m\u001b[0;34m:\u001b[0m\u001b[0;34m\u001b[0m\u001b[0;34m\u001b[0m\u001b[0m\n\u001b[0;32m--> 861\u001b[0;31m                 \u001b[0mself\u001b[0m\u001b[0;34m.\u001b[0m\u001b[0m_dispatch\u001b[0m\u001b[0;34m(\u001b[0m\u001b[0mtasks\u001b[0m\u001b[0;34m)\u001b[0m\u001b[0;34m\u001b[0m\u001b[0;34m\u001b[0m\u001b[0m\n\u001b[0m\u001b[1;32m    862\u001b[0m                 \u001b[0;32mreturn\u001b[0m \u001b[0;32mTrue\u001b[0m\u001b[0;34m\u001b[0m\u001b[0;34m\u001b[0m\u001b[0m\n\u001b[1;32m    863\u001b[0m \u001b[0;34m\u001b[0m\u001b[0m\n",
            "\u001b[0;32m/usr/local/lib/python3.7/dist-packages/joblib/parallel.py\u001b[0m in \u001b[0;36m_dispatch\u001b[0;34m(self, batch)\u001b[0m\n\u001b[1;32m    777\u001b[0m         \u001b[0;32mwith\u001b[0m \u001b[0mself\u001b[0m\u001b[0;34m.\u001b[0m\u001b[0m_lock\u001b[0m\u001b[0;34m:\u001b[0m\u001b[0;34m\u001b[0m\u001b[0;34m\u001b[0m\u001b[0m\n\u001b[1;32m    778\u001b[0m             \u001b[0mjob_idx\u001b[0m \u001b[0;34m=\u001b[0m \u001b[0mlen\u001b[0m\u001b[0;34m(\u001b[0m\u001b[0mself\u001b[0m\u001b[0;34m.\u001b[0m\u001b[0m_jobs\u001b[0m\u001b[0;34m)\u001b[0m\u001b[0;34m\u001b[0m\u001b[0;34m\u001b[0m\u001b[0m\n\u001b[0;32m--> 779\u001b[0;31m             \u001b[0mjob\u001b[0m \u001b[0;34m=\u001b[0m \u001b[0mself\u001b[0m\u001b[0;34m.\u001b[0m\u001b[0m_backend\u001b[0m\u001b[0;34m.\u001b[0m\u001b[0mapply_async\u001b[0m\u001b[0;34m(\u001b[0m\u001b[0mbatch\u001b[0m\u001b[0;34m,\u001b[0m \u001b[0mcallback\u001b[0m\u001b[0;34m=\u001b[0m\u001b[0mcb\u001b[0m\u001b[0;34m)\u001b[0m\u001b[0;34m\u001b[0m\u001b[0;34m\u001b[0m\u001b[0m\n\u001b[0m\u001b[1;32m    780\u001b[0m             \u001b[0;31m# A job can complete so quickly than its callback is\u001b[0m\u001b[0;34m\u001b[0m\u001b[0;34m\u001b[0m\u001b[0;34m\u001b[0m\u001b[0m\n\u001b[1;32m    781\u001b[0m             \u001b[0;31m# called before we get here, causing self._jobs to\u001b[0m\u001b[0;34m\u001b[0m\u001b[0;34m\u001b[0m\u001b[0;34m\u001b[0m\u001b[0m\n",
            "\u001b[0;32m/usr/local/lib/python3.7/dist-packages/joblib/_parallel_backends.py\u001b[0m in \u001b[0;36mapply_async\u001b[0;34m(self, func, callback)\u001b[0m\n\u001b[1;32m    206\u001b[0m     \u001b[0;32mdef\u001b[0m \u001b[0mapply_async\u001b[0m\u001b[0;34m(\u001b[0m\u001b[0mself\u001b[0m\u001b[0;34m,\u001b[0m \u001b[0mfunc\u001b[0m\u001b[0;34m,\u001b[0m \u001b[0mcallback\u001b[0m\u001b[0;34m=\u001b[0m\u001b[0;32mNone\u001b[0m\u001b[0;34m)\u001b[0m\u001b[0;34m:\u001b[0m\u001b[0;34m\u001b[0m\u001b[0;34m\u001b[0m\u001b[0m\n\u001b[1;32m    207\u001b[0m         \u001b[0;34m\"\"\"Schedule a func to be run\"\"\"\u001b[0m\u001b[0;34m\u001b[0m\u001b[0;34m\u001b[0m\u001b[0m\n\u001b[0;32m--> 208\u001b[0;31m         \u001b[0mresult\u001b[0m \u001b[0;34m=\u001b[0m \u001b[0mImmediateResult\u001b[0m\u001b[0;34m(\u001b[0m\u001b[0mfunc\u001b[0m\u001b[0;34m)\u001b[0m\u001b[0;34m\u001b[0m\u001b[0;34m\u001b[0m\u001b[0m\n\u001b[0m\u001b[1;32m    209\u001b[0m         \u001b[0;32mif\u001b[0m \u001b[0mcallback\u001b[0m\u001b[0;34m:\u001b[0m\u001b[0;34m\u001b[0m\u001b[0;34m\u001b[0m\u001b[0m\n\u001b[1;32m    210\u001b[0m             \u001b[0mcallback\u001b[0m\u001b[0;34m(\u001b[0m\u001b[0mresult\u001b[0m\u001b[0;34m)\u001b[0m\u001b[0;34m\u001b[0m\u001b[0;34m\u001b[0m\u001b[0m\n",
            "\u001b[0;32m/usr/local/lib/python3.7/dist-packages/joblib/_parallel_backends.py\u001b[0m in \u001b[0;36m__init__\u001b[0;34m(self, batch)\u001b[0m\n\u001b[1;32m    570\u001b[0m         \u001b[0;31m# Don't delay the application, to avoid keeping the input\u001b[0m\u001b[0;34m\u001b[0m\u001b[0;34m\u001b[0m\u001b[0;34m\u001b[0m\u001b[0m\n\u001b[1;32m    571\u001b[0m         \u001b[0;31m# arguments in memory\u001b[0m\u001b[0;34m\u001b[0m\u001b[0;34m\u001b[0m\u001b[0;34m\u001b[0m\u001b[0m\n\u001b[0;32m--> 572\u001b[0;31m         \u001b[0mself\u001b[0m\u001b[0;34m.\u001b[0m\u001b[0mresults\u001b[0m \u001b[0;34m=\u001b[0m \u001b[0mbatch\u001b[0m\u001b[0;34m(\u001b[0m\u001b[0;34m)\u001b[0m\u001b[0;34m\u001b[0m\u001b[0;34m\u001b[0m\u001b[0m\n\u001b[0m\u001b[1;32m    573\u001b[0m \u001b[0;34m\u001b[0m\u001b[0m\n\u001b[1;32m    574\u001b[0m     \u001b[0;32mdef\u001b[0m \u001b[0mget\u001b[0m\u001b[0;34m(\u001b[0m\u001b[0mself\u001b[0m\u001b[0;34m)\u001b[0m\u001b[0;34m:\u001b[0m\u001b[0;34m\u001b[0m\u001b[0;34m\u001b[0m\u001b[0m\n",
            "\u001b[0;32m/usr/local/lib/python3.7/dist-packages/joblib/parallel.py\u001b[0m in \u001b[0;36m__call__\u001b[0;34m(self)\u001b[0m\n\u001b[1;32m    261\u001b[0m         \u001b[0;32mwith\u001b[0m \u001b[0mparallel_backend\u001b[0m\u001b[0;34m(\u001b[0m\u001b[0mself\u001b[0m\u001b[0;34m.\u001b[0m\u001b[0m_backend\u001b[0m\u001b[0;34m,\u001b[0m \u001b[0mn_jobs\u001b[0m\u001b[0;34m=\u001b[0m\u001b[0mself\u001b[0m\u001b[0;34m.\u001b[0m\u001b[0m_n_jobs\u001b[0m\u001b[0;34m)\u001b[0m\u001b[0;34m:\u001b[0m\u001b[0;34m\u001b[0m\u001b[0;34m\u001b[0m\u001b[0m\n\u001b[1;32m    262\u001b[0m             return [func(*args, **kwargs)\n\u001b[0;32m--> 263\u001b[0;31m                     for func, args, kwargs in self.items]\n\u001b[0m\u001b[1;32m    264\u001b[0m \u001b[0;34m\u001b[0m\u001b[0m\n\u001b[1;32m    265\u001b[0m     \u001b[0;32mdef\u001b[0m \u001b[0m__reduce__\u001b[0m\u001b[0;34m(\u001b[0m\u001b[0mself\u001b[0m\u001b[0;34m)\u001b[0m\u001b[0;34m:\u001b[0m\u001b[0;34m\u001b[0m\u001b[0;34m\u001b[0m\u001b[0m\n",
            "\u001b[0;32m/usr/local/lib/python3.7/dist-packages/joblib/parallel.py\u001b[0m in \u001b[0;36m<listcomp>\u001b[0;34m(.0)\u001b[0m\n\u001b[1;32m    261\u001b[0m         \u001b[0;32mwith\u001b[0m \u001b[0mparallel_backend\u001b[0m\u001b[0;34m(\u001b[0m\u001b[0mself\u001b[0m\u001b[0;34m.\u001b[0m\u001b[0m_backend\u001b[0m\u001b[0;34m,\u001b[0m \u001b[0mn_jobs\u001b[0m\u001b[0;34m=\u001b[0m\u001b[0mself\u001b[0m\u001b[0;34m.\u001b[0m\u001b[0m_n_jobs\u001b[0m\u001b[0;34m)\u001b[0m\u001b[0;34m:\u001b[0m\u001b[0;34m\u001b[0m\u001b[0;34m\u001b[0m\u001b[0m\n\u001b[1;32m    262\u001b[0m             return [func(*args, **kwargs)\n\u001b[0;32m--> 263\u001b[0;31m                     for func, args, kwargs in self.items]\n\u001b[0m\u001b[1;32m    264\u001b[0m \u001b[0;34m\u001b[0m\u001b[0m\n\u001b[1;32m    265\u001b[0m     \u001b[0;32mdef\u001b[0m \u001b[0m__reduce__\u001b[0m\u001b[0;34m(\u001b[0m\u001b[0mself\u001b[0m\u001b[0;34m)\u001b[0m\u001b[0;34m:\u001b[0m\u001b[0;34m\u001b[0m\u001b[0;34m\u001b[0m\u001b[0m\n",
            "\u001b[0;32m/usr/local/lib/python3.7/dist-packages/sklearn/utils/fixes.py\u001b[0m in \u001b[0;36m__call__\u001b[0;34m(self, *args, **kwargs)\u001b[0m\n\u001b[1;32m    214\u001b[0m     \u001b[0;32mdef\u001b[0m \u001b[0m__call__\u001b[0m\u001b[0;34m(\u001b[0m\u001b[0mself\u001b[0m\u001b[0;34m,\u001b[0m \u001b[0;34m*\u001b[0m\u001b[0margs\u001b[0m\u001b[0;34m,\u001b[0m \u001b[0;34m**\u001b[0m\u001b[0mkwargs\u001b[0m\u001b[0;34m)\u001b[0m\u001b[0;34m:\u001b[0m\u001b[0;34m\u001b[0m\u001b[0;34m\u001b[0m\u001b[0m\n\u001b[1;32m    215\u001b[0m         \u001b[0;32mwith\u001b[0m \u001b[0mconfig_context\u001b[0m\u001b[0;34m(\u001b[0m\u001b[0;34m**\u001b[0m\u001b[0mself\u001b[0m\u001b[0;34m.\u001b[0m\u001b[0mconfig\u001b[0m\u001b[0;34m)\u001b[0m\u001b[0;34m:\u001b[0m\u001b[0;34m\u001b[0m\u001b[0;34m\u001b[0m\u001b[0m\n\u001b[0;32m--> 216\u001b[0;31m             \u001b[0;32mreturn\u001b[0m \u001b[0mself\u001b[0m\u001b[0;34m.\u001b[0m\u001b[0mfunction\u001b[0m\u001b[0;34m(\u001b[0m\u001b[0;34m*\u001b[0m\u001b[0margs\u001b[0m\u001b[0;34m,\u001b[0m \u001b[0;34m**\u001b[0m\u001b[0mkwargs\u001b[0m\u001b[0;34m)\u001b[0m\u001b[0;34m\u001b[0m\u001b[0;34m\u001b[0m\u001b[0m\n\u001b[0m\u001b[1;32m    217\u001b[0m \u001b[0;34m\u001b[0m\u001b[0m\n\u001b[1;32m    218\u001b[0m \u001b[0;34m\u001b[0m\u001b[0m\n",
            "\u001b[0;32m/usr/local/lib/python3.7/dist-packages/sklearn/model_selection/_validation.py\u001b[0m in \u001b[0;36m_fit_and_score\u001b[0;34m(estimator, X, y, scorer, train, test, verbose, parameters, fit_params, return_train_score, return_parameters, return_n_test_samples, return_times, return_estimator, split_progress, candidate_progress, error_score)\u001b[0m\n\u001b[1;32m    678\u001b[0m             \u001b[0mestimator\u001b[0m\u001b[0;34m.\u001b[0m\u001b[0mfit\u001b[0m\u001b[0;34m(\u001b[0m\u001b[0mX_train\u001b[0m\u001b[0;34m,\u001b[0m \u001b[0;34m**\u001b[0m\u001b[0mfit_params\u001b[0m\u001b[0;34m)\u001b[0m\u001b[0;34m\u001b[0m\u001b[0;34m\u001b[0m\u001b[0m\n\u001b[1;32m    679\u001b[0m         \u001b[0;32melse\u001b[0m\u001b[0;34m:\u001b[0m\u001b[0;34m\u001b[0m\u001b[0;34m\u001b[0m\u001b[0m\n\u001b[0;32m--> 680\u001b[0;31m             \u001b[0mestimator\u001b[0m\u001b[0;34m.\u001b[0m\u001b[0mfit\u001b[0m\u001b[0;34m(\u001b[0m\u001b[0mX_train\u001b[0m\u001b[0;34m,\u001b[0m \u001b[0my_train\u001b[0m\u001b[0;34m,\u001b[0m \u001b[0;34m**\u001b[0m\u001b[0mfit_params\u001b[0m\u001b[0;34m)\u001b[0m\u001b[0;34m\u001b[0m\u001b[0;34m\u001b[0m\u001b[0m\n\u001b[0m\u001b[1;32m    681\u001b[0m \u001b[0;34m\u001b[0m\u001b[0m\n\u001b[1;32m    682\u001b[0m     \u001b[0;32mexcept\u001b[0m \u001b[0mException\u001b[0m\u001b[0;34m:\u001b[0m\u001b[0;34m\u001b[0m\u001b[0;34m\u001b[0m\u001b[0m\n",
            "\u001b[0;32m/usr/local/lib/python3.7/dist-packages/sklearn/svm/_base.py\u001b[0m in \u001b[0;36mfit\u001b[0;34m(self, X, y, sample_weight)\u001b[0m\n\u001b[1;32m    253\u001b[0m \u001b[0;34m\u001b[0m\u001b[0m\n\u001b[1;32m    254\u001b[0m         \u001b[0mseed\u001b[0m \u001b[0;34m=\u001b[0m \u001b[0mrnd\u001b[0m\u001b[0;34m.\u001b[0m\u001b[0mrandint\u001b[0m\u001b[0;34m(\u001b[0m\u001b[0mnp\u001b[0m\u001b[0;34m.\u001b[0m\u001b[0miinfo\u001b[0m\u001b[0;34m(\u001b[0m\u001b[0;34m\"i\"\u001b[0m\u001b[0;34m)\u001b[0m\u001b[0;34m.\u001b[0m\u001b[0mmax\u001b[0m\u001b[0;34m)\u001b[0m\u001b[0;34m\u001b[0m\u001b[0;34m\u001b[0m\u001b[0m\n\u001b[0;32m--> 255\u001b[0;31m         \u001b[0mfit\u001b[0m\u001b[0;34m(\u001b[0m\u001b[0mX\u001b[0m\u001b[0;34m,\u001b[0m \u001b[0my\u001b[0m\u001b[0;34m,\u001b[0m \u001b[0msample_weight\u001b[0m\u001b[0;34m,\u001b[0m \u001b[0msolver_type\u001b[0m\u001b[0;34m,\u001b[0m \u001b[0mkernel\u001b[0m\u001b[0;34m,\u001b[0m \u001b[0mrandom_seed\u001b[0m\u001b[0;34m=\u001b[0m\u001b[0mseed\u001b[0m\u001b[0;34m)\u001b[0m\u001b[0;34m\u001b[0m\u001b[0;34m\u001b[0m\u001b[0m\n\u001b[0m\u001b[1;32m    256\u001b[0m         \u001b[0;31m# see comment on the other call to np.iinfo in this file\u001b[0m\u001b[0;34m\u001b[0m\u001b[0;34m\u001b[0m\u001b[0;34m\u001b[0m\u001b[0m\n\u001b[1;32m    257\u001b[0m \u001b[0;34m\u001b[0m\u001b[0m\n",
            "\u001b[0;32m/usr/local/lib/python3.7/dist-packages/sklearn/svm/_base.py\u001b[0m in \u001b[0;36m_dense_fit\u001b[0;34m(self, X, y, sample_weight, solver_type, kernel, random_seed)\u001b[0m\n\u001b[1;32m    331\u001b[0m             \u001b[0mepsilon\u001b[0m\u001b[0;34m=\u001b[0m\u001b[0mself\u001b[0m\u001b[0;34m.\u001b[0m\u001b[0mepsilon\u001b[0m\u001b[0;34m,\u001b[0m\u001b[0;34m\u001b[0m\u001b[0;34m\u001b[0m\u001b[0m\n\u001b[1;32m    332\u001b[0m             \u001b[0mmax_iter\u001b[0m\u001b[0;34m=\u001b[0m\u001b[0mself\u001b[0m\u001b[0;34m.\u001b[0m\u001b[0mmax_iter\u001b[0m\u001b[0;34m,\u001b[0m\u001b[0;34m\u001b[0m\u001b[0;34m\u001b[0m\u001b[0m\n\u001b[0;32m--> 333\u001b[0;31m             \u001b[0mrandom_seed\u001b[0m\u001b[0;34m=\u001b[0m\u001b[0mrandom_seed\u001b[0m\u001b[0;34m,\u001b[0m\u001b[0;34m\u001b[0m\u001b[0;34m\u001b[0m\u001b[0m\n\u001b[0m\u001b[1;32m    334\u001b[0m         )\n\u001b[1;32m    335\u001b[0m \u001b[0;34m\u001b[0m\u001b[0m\n",
            "\u001b[0;31mKeyboardInterrupt\u001b[0m: "
          ]
        }
      ]
    },
    {
      "cell_type": "code",
      "source": [
        "# print best parameter after tuning\n",
        "print(grid_poly.best_params_)\n",
        " \n",
        "# print how our model looks after hyper-parameter tuning\n",
        "print(grid_poly.best_estimator_)"
      ],
      "metadata": {
        "id": "wW1Y7370TIwC"
      },
      "execution_count": null,
      "outputs": []
    },
    {
      "cell_type": "code",
      "source": [
        "grid_predictions_poly = grid_poly.predict(X_test)\n",
        " \n",
        "# print classification report\n",
        "print(classification_report(y_test, grid_predictions_poly))"
      ],
      "metadata": {
        "id": "7eps7Oc0TIwD"
      },
      "execution_count": null,
      "outputs": []
    },
    {
      "cell_type": "markdown",
      "source": [
        "It has 180 operation and with 5 minutes average, it will take about **15 hours** to finish. I'm not gonna do that."
      ],
      "metadata": {
        "id": "kcdw-OQxvU-p"
      }
    },
    {
      "cell_type": "markdown",
      "source": [
        "### Results:\n",
        "0.92: {'C': 10, 'gamma': 0.1, 'kernel': 'rbf'}\n",
        "\n",
        "0.98: {'C': 10, 'kernel': 'linear'}\n",
        "\n",
        "~ 0.92 {'C': 10, 'kernel': 'poly', 'gamma': '0.01', 'degree': '2'}\n",
        "\n",
        "According to the results, the best estimator is Linear with paramet C=10"
      ],
      "metadata": {
        "id": "_9mwIVO8UCQj"
      }
    },
    {
      "cell_type": "markdown",
      "source": [
        "# Q6) Cancer.CSV"
      ],
      "metadata": {
        "id": "ao5JGteLBLMV"
      }
    },
    {
      "cell_type": "code",
      "source": [
        "df = pd.read_csv('https://raw.githubusercontent.com/Arashlf/UT_ML_Course/main/Homework4/cancer.csv')"
      ],
      "metadata": {
        "id": "vkDTB0XyBO_G"
      },
      "execution_count": null,
      "outputs": []
    },
    {
      "cell_type": "code",
      "source": [
        ""
      ],
      "metadata": {
        "id": "mldwS0nNv4q8"
      },
      "execution_count": null,
      "outputs": []
    }
  ]
}