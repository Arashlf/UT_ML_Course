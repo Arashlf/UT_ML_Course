{
  "nbformat": 4,
  "nbformat_minor": 0,
  "metadata": {
    "colab": {
      "name": "Q5-6.ipynb",
      "provenance": [],
      "collapsed_sections": [
        "tjpReyeb_sQs",
        "ORpFp85WLFXO",
        "ah6P7NfqLgvw",
        "xobXCSA_Lixw",
        "fZHry7DaLi53",
        "Xcoieo7WQlCQ"
      ],
      "authorship_tag": "ABX9TyOnbTSJU479j01dBP2CLHaC",
      "include_colab_link": true
    },
    "kernelspec": {
      "name": "python3",
      "display_name": "Python 3"
    },
    "language_info": {
      "name": "python"
    }
  },
  "cells": [
    {
      "cell_type": "markdown",
      "metadata": {
        "id": "view-in-github",
        "colab_type": "text"
      },
      "source": [
        "<a href=\"https://colab.research.google.com/github/Arashlf/UT_ML_Course/blob/main/Homework4/Q5_6.ipynb\" target=\"_parent\"><img src=\"https://colab.research.google.com/assets/colab-badge.svg\" alt=\"Open In Colab\"/></a>"
      ]
    },
    {
      "cell_type": "markdown",
      "source": [
        "# ML: Homework 5 - Question 6 and 6\n",
        "## Arash Latifi - 810197576\n",
        "### Srping 2022"
      ],
      "metadata": {
        "id": "10cb4jn4_u0R"
      }
    },
    {
      "cell_type": "markdown",
      "source": [
        "---"
      ],
      "metadata": {
        "id": "LxR2eLlMAZZB"
      }
    },
    {
      "cell_type": "code",
      "execution_count": 28,
      "metadata": {
        "id": "GbP2j06E_Z-o"
      },
      "outputs": [],
      "source": [
        "import matplotlib.pyplot as plt\n",
        "import numpy as np\n",
        "import pandas as pd\n",
        "from sklearn.ensemble import RandomForestClassifier, VotingClassifier\n",
        "from sklearn.linear_model import LogisticRegression\n",
        "from sklearn.metrics import accuracy_score, classification_report\n",
        "from sklearn.model_selection import cross_val_score, GridSearchCV, KFold, RepeatedStratifiedKFold, train_test_split\n",
        "from sklearn.preprocessing import MinMaxScaler, StandardScaler\n",
        "from sklearn.svm import SVC\n",
        "from sklearn.tree import DecisionTreeClassifier"
      ]
    },
    {
      "cell_type": "markdown",
      "source": [
        "# Q5) Q5.CSV"
      ],
      "metadata": {
        "id": "tjpReyeb_sQs"
      }
    },
    {
      "cell_type": "markdown",
      "source": [
        "The linear, polynomial and RBF are simply different in case of making the hyperplane decision boundary between the classes.\n",
        "\n",
        "Usually linear and polynomial kernels are *less time consuming* and provides *less accuracy* than the rbf kernels.\n",
        "\n",
        "**Linear**: The linear kernel works fine if your dataset if linearly separable.\n",
        "\n",
        "**Polynomial**: It is quite popular in natural language processing (NLP). The most common degree is d = 2 (quadratic), since larger degrees tend to overfit on NLP problems.\n",
        "\n",
        "**Radial basis function kernel**: It is commonly used in support vector machine classification. It uses when dataset is non-linear and can’t find out the right feature transform or the right kernel to use."
      ],
      "metadata": {
        "id": "XlD7h8aDBhVV"
      }
    },
    {
      "cell_type": "code",
      "source": [
        "df = pd.read_csv('https://raw.githubusercontent.com/Arashlf/UT_ML_Course/main/Homework4/q5.csv')"
      ],
      "metadata": {
        "id": "ufEKFdeABKMe"
      },
      "execution_count": null,
      "outputs": []
    },
    {
      "cell_type": "code",
      "source": [
        "df.head(3)"
      ],
      "metadata": {
        "colab": {
          "base_uri": "https://localhost:8080/",
          "height": 222
        },
        "id": "jCpFoC-4HIle",
        "outputId": "f39ad723-139d-4a08-a9d4-fd6f6b57891d"
      },
      "execution_count": null,
      "outputs": [
        {
          "output_type": "execute_result",
          "data": {
            "text/plain": [
              "    Mean of the integrated profile  \\\n",
              "0                       140.562500   \n",
              "1                       102.507812   \n",
              "2                       103.015625   \n",
              "\n",
              "    Standard deviation of the integrated profile  \\\n",
              "0                                      55.683782   \n",
              "1                                      58.882430   \n",
              "2                                      39.341649   \n",
              "\n",
              "    Excess kurtosis of the integrated profile  \\\n",
              "0                                   -0.234571   \n",
              "1                                    0.465318   \n",
              "2                                    0.323328   \n",
              "\n",
              "    Skewness of the integrated profile   Mean of the DM-SNR curve  \\\n",
              "0                            -0.699648                   3.199833   \n",
              "1                            -0.515088                   1.677258   \n",
              "2                             1.051164                   3.121237   \n",
              "\n",
              "    Standard deviation of the DM-SNR curve  \\\n",
              "0                                19.110426   \n",
              "1                                14.860146   \n",
              "2                                21.744669   \n",
              "\n",
              "    Excess kurtosis of the DM-SNR curve   Skewness of the DM-SNR curve  \\\n",
              "0                              7.975532                      74.242225   \n",
              "1                             10.576487                     127.393580   \n",
              "2                              7.735822                      63.171909   \n",
              "\n",
              "   target_class  \n",
              "0             0  \n",
              "1             0  \n",
              "2             0  "
            ],
            "text/html": [
              "\n",
              "  <div id=\"df-445c8887-a480-438c-adab-2727863c6447\">\n",
              "    <div class=\"colab-df-container\">\n",
              "      <div>\n",
              "<style scoped>\n",
              "    .dataframe tbody tr th:only-of-type {\n",
              "        vertical-align: middle;\n",
              "    }\n",
              "\n",
              "    .dataframe tbody tr th {\n",
              "        vertical-align: top;\n",
              "    }\n",
              "\n",
              "    .dataframe thead th {\n",
              "        text-align: right;\n",
              "    }\n",
              "</style>\n",
              "<table border=\"1\" class=\"dataframe\">\n",
              "  <thead>\n",
              "    <tr style=\"text-align: right;\">\n",
              "      <th></th>\n",
              "      <th>Mean of the integrated profile</th>\n",
              "      <th>Standard deviation of the integrated profile</th>\n",
              "      <th>Excess kurtosis of the integrated profile</th>\n",
              "      <th>Skewness of the integrated profile</th>\n",
              "      <th>Mean of the DM-SNR curve</th>\n",
              "      <th>Standard deviation of the DM-SNR curve</th>\n",
              "      <th>Excess kurtosis of the DM-SNR curve</th>\n",
              "      <th>Skewness of the DM-SNR curve</th>\n",
              "      <th>target_class</th>\n",
              "    </tr>\n",
              "  </thead>\n",
              "  <tbody>\n",
              "    <tr>\n",
              "      <th>0</th>\n",
              "      <td>140.562500</td>\n",
              "      <td>55.683782</td>\n",
              "      <td>-0.234571</td>\n",
              "      <td>-0.699648</td>\n",
              "      <td>3.199833</td>\n",
              "      <td>19.110426</td>\n",
              "      <td>7.975532</td>\n",
              "      <td>74.242225</td>\n",
              "      <td>0</td>\n",
              "    </tr>\n",
              "    <tr>\n",
              "      <th>1</th>\n",
              "      <td>102.507812</td>\n",
              "      <td>58.882430</td>\n",
              "      <td>0.465318</td>\n",
              "      <td>-0.515088</td>\n",
              "      <td>1.677258</td>\n",
              "      <td>14.860146</td>\n",
              "      <td>10.576487</td>\n",
              "      <td>127.393580</td>\n",
              "      <td>0</td>\n",
              "    </tr>\n",
              "    <tr>\n",
              "      <th>2</th>\n",
              "      <td>103.015625</td>\n",
              "      <td>39.341649</td>\n",
              "      <td>0.323328</td>\n",
              "      <td>1.051164</td>\n",
              "      <td>3.121237</td>\n",
              "      <td>21.744669</td>\n",
              "      <td>7.735822</td>\n",
              "      <td>63.171909</td>\n",
              "      <td>0</td>\n",
              "    </tr>\n",
              "  </tbody>\n",
              "</table>\n",
              "</div>\n",
              "      <button class=\"colab-df-convert\" onclick=\"convertToInteractive('df-445c8887-a480-438c-adab-2727863c6447')\"\n",
              "              title=\"Convert this dataframe to an interactive table.\"\n",
              "              style=\"display:none;\">\n",
              "        \n",
              "  <svg xmlns=\"http://www.w3.org/2000/svg\" height=\"24px\"viewBox=\"0 0 24 24\"\n",
              "       width=\"24px\">\n",
              "    <path d=\"M0 0h24v24H0V0z\" fill=\"none\"/>\n",
              "    <path d=\"M18.56 5.44l.94 2.06.94-2.06 2.06-.94-2.06-.94-.94-2.06-.94 2.06-2.06.94zm-11 1L8.5 8.5l.94-2.06 2.06-.94-2.06-.94L8.5 2.5l-.94 2.06-2.06.94zm10 10l.94 2.06.94-2.06 2.06-.94-2.06-.94-.94-2.06-.94 2.06-2.06.94z\"/><path d=\"M17.41 7.96l-1.37-1.37c-.4-.4-.92-.59-1.43-.59-.52 0-1.04.2-1.43.59L10.3 9.45l-7.72 7.72c-.78.78-.78 2.05 0 2.83L4 21.41c.39.39.9.59 1.41.59.51 0 1.02-.2 1.41-.59l7.78-7.78 2.81-2.81c.8-.78.8-2.07 0-2.86zM5.41 20L4 18.59l7.72-7.72 1.47 1.35L5.41 20z\"/>\n",
              "  </svg>\n",
              "      </button>\n",
              "      \n",
              "  <style>\n",
              "    .colab-df-container {\n",
              "      display:flex;\n",
              "      flex-wrap:wrap;\n",
              "      gap: 12px;\n",
              "    }\n",
              "\n",
              "    .colab-df-convert {\n",
              "      background-color: #E8F0FE;\n",
              "      border: none;\n",
              "      border-radius: 50%;\n",
              "      cursor: pointer;\n",
              "      display: none;\n",
              "      fill: #1967D2;\n",
              "      height: 32px;\n",
              "      padding: 0 0 0 0;\n",
              "      width: 32px;\n",
              "    }\n",
              "\n",
              "    .colab-df-convert:hover {\n",
              "      background-color: #E2EBFA;\n",
              "      box-shadow: 0px 1px 2px rgba(60, 64, 67, 0.3), 0px 1px 3px 1px rgba(60, 64, 67, 0.15);\n",
              "      fill: #174EA6;\n",
              "    }\n",
              "\n",
              "    [theme=dark] .colab-df-convert {\n",
              "      background-color: #3B4455;\n",
              "      fill: #D2E3FC;\n",
              "    }\n",
              "\n",
              "    [theme=dark] .colab-df-convert:hover {\n",
              "      background-color: #434B5C;\n",
              "      box-shadow: 0px 1px 3px 1px rgba(0, 0, 0, 0.15);\n",
              "      filter: drop-shadow(0px 1px 2px rgba(0, 0, 0, 0.3));\n",
              "      fill: #FFFFFF;\n",
              "    }\n",
              "  </style>\n",
              "\n",
              "      <script>\n",
              "        const buttonEl =\n",
              "          document.querySelector('#df-445c8887-a480-438c-adab-2727863c6447 button.colab-df-convert');\n",
              "        buttonEl.style.display =\n",
              "          google.colab.kernel.accessAllowed ? 'block' : 'none';\n",
              "\n",
              "        async function convertToInteractive(key) {\n",
              "          const element = document.querySelector('#df-445c8887-a480-438c-adab-2727863c6447');\n",
              "          const dataTable =\n",
              "            await google.colab.kernel.invokeFunction('convertToInteractive',\n",
              "                                                     [key], {});\n",
              "          if (!dataTable) return;\n",
              "\n",
              "          const docLinkHtml = 'Like what you see? Visit the ' +\n",
              "            '<a target=\"_blank\" href=https://colab.research.google.com/notebooks/data_table.ipynb>data table notebook</a>'\n",
              "            + ' to learn more about interactive tables.';\n",
              "          element.innerHTML = '';\n",
              "          dataTable['output_type'] = 'display_data';\n",
              "          await google.colab.output.renderOutput(dataTable, element);\n",
              "          const docLink = document.createElement('div');\n",
              "          docLink.innerHTML = docLinkHtml;\n",
              "          element.appendChild(docLink);\n",
              "        }\n",
              "      </script>\n",
              "    </div>\n",
              "  </div>\n",
              "  "
            ]
          },
          "metadata": {},
          "execution_count": 6
        }
      ]
    },
    {
      "cell_type": "code",
      "source": [
        "X = df.drop('target_class', axis=1)\n",
        "y = df['target_class']"
      ],
      "metadata": {
        "id": "5AjoHjgCJR2M"
      },
      "execution_count": null,
      "outputs": []
    },
    {
      "cell_type": "code",
      "source": [
        "X_train, X_test, y_train, y_test = train_test_split(X, y, test_size = 0.20)"
      ],
      "metadata": {
        "id": "KKwLGxfiJaTm"
      },
      "execution_count": null,
      "outputs": []
    },
    {
      "cell_type": "markdown",
      "source": [
        "### RBF with C = 1, 100, 1000"
      ],
      "metadata": {
        "id": "ORpFp85WLFXO"
      }
    },
    {
      "cell_type": "code",
      "source": [
        "svclassifier_rbf_1 = SVC(kernel='rbf', C=1)\n",
        "svclassifier_rbf_1.fit(X_train, y_train)\n",
        "svclassifier_rbf_100 = SVC(kernel='rbf', C=100)\n",
        "svclassifier_rbf_100.fit(X_train, y_train)\n",
        "svclassifier_rbf_1000 = SVC(kernel='rbf', C=1000)\n",
        "svclassifier_rbf_1000.fit(X_train, y_train)"
      ],
      "metadata": {
        "colab": {
          "base_uri": "https://localhost:8080/"
        },
        "id": "5Dr8jwZ1Jtjw",
        "outputId": "4c94b653-abf7-442e-bb2d-a2c1fb48f976"
      },
      "execution_count": null,
      "outputs": [
        {
          "output_type": "execute_result",
          "data": {
            "text/plain": [
              "SVC(C=1000)"
            ]
          },
          "metadata": {},
          "execution_count": 16
        }
      ]
    },
    {
      "cell_type": "code",
      "source": [
        "y_pred_rbf_1 = svclassifier_rbf_1.predict(X_test)\n",
        "y_pred_rbf_100 = svclassifier_rbf_100.predict(X_test)\n",
        "y_pred_rbf_1000 = svclassifier_rbf_1000.predict(X_test)"
      ],
      "metadata": {
        "id": "CMSHKJ_DJtYz"
      },
      "execution_count": null,
      "outputs": []
    },
    {
      "cell_type": "code",
      "source": [
        "print(accuracy_score(y_test,y_pred_rbf_1))\n",
        "print(accuracy_score(y_test,y_pred_rbf_100))\n",
        "print(accuracy_score(y_test,y_pred_rbf_1000))"
      ],
      "metadata": {
        "colab": {
          "base_uri": "https://localhost:8080/"
        },
        "id": "EnZswBeMK3hF",
        "outputId": "49d5ffb1-5a3d-4de7-f825-25c8c3e07d49"
      },
      "execution_count": null,
      "outputs": [
        {
          "output_type": "stream",
          "name": "stdout",
          "text": [
            "0.9751396648044692\n",
            "0.979050279329609\n",
            "0.9815642458100559\n"
          ]
        }
      ]
    },
    {
      "cell_type": "markdown",
      "source": [
        "### Linear with C = 1, 100, 1000"
      ],
      "metadata": {
        "id": "ah6P7NfqLgvw"
      }
    },
    {
      "cell_type": "code",
      "source": [
        "svclassifier_linear_1 = SVC(kernel='linear', C=1)\n",
        "svclassifier_linear_1.fit(X_train, y_train)\n",
        "svclassifier_linear_100 = SVC(kernel='linear', C=100)\n",
        "svclassifier_linear_100.fit(X_train, y_train)\n",
        "svclassifier_linear_1000 = SVC(kernel='linear', C=1000)\n",
        "svclassifier_linear_1000.fit(X_train, y_train)"
      ],
      "metadata": {
        "colab": {
          "base_uri": "https://localhost:8080/"
        },
        "outputId": "bdd60094-d920-400c-a763-a69534e59190",
        "id": "SGNagkbHLgvw"
      },
      "execution_count": null,
      "outputs": [
        {
          "output_type": "execute_result",
          "data": {
            "text/plain": [
              "SVC(C=1000, kernel='linear')"
            ]
          },
          "metadata": {},
          "execution_count": 19
        }
      ]
    },
    {
      "cell_type": "code",
      "source": [
        "y_pred_linear_1 = svclassifier_linear_1.predict(X_test)\n",
        "y_pred_linear_100 = svclassifier_linear_100.predict(X_test)\n",
        "y_pred_linear_1000 = svclassifier_linear_1000.predict(X_test)"
      ],
      "metadata": {
        "id": "cOp54E4jLgvx"
      },
      "execution_count": null,
      "outputs": []
    },
    {
      "cell_type": "code",
      "source": [
        "print(accuracy_score(y_test,y_pred_linear_1))\n",
        "print(accuracy_score(y_test,y_pred_linear_100))\n",
        "print(accuracy_score(y_test,y_pred_linear_1000))"
      ],
      "metadata": {
        "colab": {
          "base_uri": "https://localhost:8080/"
        },
        "outputId": "50aaaa2e-a133-4d58-cb2f-fa0166a49153",
        "id": "MsXT5F5VLgvx"
      },
      "execution_count": null,
      "outputs": [
        {
          "output_type": "stream",
          "name": "stdout",
          "text": [
            "0.9801675977653631\n",
            "0.9801675977653631\n",
            "0.979050279329609\n"
          ]
        }
      ]
    },
    {
      "cell_type": "markdown",
      "source": [
        "### Polynomial with C = 1, 100"
      ],
      "metadata": {
        "id": "xobXCSA_Lixw"
      }
    },
    {
      "cell_type": "code",
      "source": [
        "svclassifier_poly_1 = SVC(kernel='poly', C=1)\n",
        "svclassifier_poly_1.fit(X_train, y_train)\n",
        "svclassifier_poly_100 = SVC(kernel='poly', C=100)\n",
        "svclassifier_poly_100.fit(X_train, y_train)"
      ],
      "metadata": {
        "colab": {
          "base_uri": "https://localhost:8080/"
        },
        "outputId": "56383313-f873-449d-837b-d5e94282c537",
        "id": "g1U0Ny-_Lixw"
      },
      "execution_count": null,
      "outputs": [
        {
          "output_type": "execute_result",
          "data": {
            "text/plain": [
              "SVC(C=100, kernel='poly')"
            ]
          },
          "metadata": {},
          "execution_count": 26
        }
      ]
    },
    {
      "cell_type": "code",
      "source": [
        "y_pred_poly_1 = svclassifier_poly_1.predict(X_test)\n",
        "y_pred_poly_100 = svclassifier_poly_100.predict(X_test)"
      ],
      "metadata": {
        "id": "-C4avocuLixx"
      },
      "execution_count": null,
      "outputs": []
    },
    {
      "cell_type": "code",
      "source": [
        "print(accuracy_score(y_test,y_pred_poly_1))\n",
        "print(accuracy_score(y_test,y_pred_poly_100))"
      ],
      "metadata": {
        "colab": {
          "base_uri": "https://localhost:8080/"
        },
        "outputId": "29c7e9f7-d00d-4a45-ede5-6e1aff2ca9c3",
        "id": "A1wcIZZILixy"
      },
      "execution_count": null,
      "outputs": [
        {
          "output_type": "stream",
          "name": "stdout",
          "text": [
            "0.9745810055865922\n",
            "0.9770949720670391\n"
          ]
        }
      ]
    },
    {
      "cell_type": "markdown",
      "source": [
        "### Sigmoid with C = 1, 100"
      ],
      "metadata": {
        "id": "fZHry7DaLi53"
      }
    },
    {
      "cell_type": "code",
      "source": [
        "svclassifier_sigmoid_1 = SVC(kernel='sigmoid', C=1)\n",
        "svclassifier_sigmoid_1.fit(X_train, y_train)\n",
        "svclassifier_sigmoid_100 = SVC(kernel='sigmoid', C=100)\n",
        "svclassifier_sigmoid_100.fit(X_train, y_train)"
      ],
      "metadata": {
        "colab": {
          "base_uri": "https://localhost:8080/"
        },
        "outputId": "008bbad2-d66b-499e-c3ca-3b33c17362af",
        "id": "O1UmgspnLi54"
      },
      "execution_count": null,
      "outputs": [
        {
          "output_type": "execute_result",
          "data": {
            "text/plain": [
              "SVC(C=100, kernel='sigmoid')"
            ]
          },
          "metadata": {},
          "execution_count": 29
        }
      ]
    },
    {
      "cell_type": "code",
      "source": [
        "y_pred_sigmoid_1 = svclassifier_sigmoid_1.predict(X_test)\n",
        "y_pred_sigmoid_100 = svclassifier_sigmoid_100.predict(X_test)"
      ],
      "metadata": {
        "id": "28N5WaTsLi54"
      },
      "execution_count": null,
      "outputs": []
    },
    {
      "cell_type": "code",
      "source": [
        "print(accuracy_score(y_test,y_pred_sigmoid_1))\n",
        "print(accuracy_score(y_test,y_pred_sigmoid_100))"
      ],
      "metadata": {
        "colab": {
          "base_uri": "https://localhost:8080/"
        },
        "outputId": "fc74b504-0426-43b0-9009-61dfddac33f4",
        "id": "WwZaPTsKLi55"
      },
      "execution_count": null,
      "outputs": [
        {
          "output_type": "stream",
          "name": "stdout",
          "text": [
            "0.9268156424581006\n",
            "0.9231843575418994\n"
          ]
        }
      ]
    },
    {
      "cell_type": "markdown",
      "source": [
        "### Results:\n",
        "| Kernel  | C    | Accuracy |\n",
        "| ---     | ---  | ---    |\n",
        "| RBF     | 1    | 0.9751 |\n",
        "| RBF     | 100  | 0.9791 |\n",
        "| RBF     | 1000 | 0.9816 |\n",
        "| Linear  | 1    | 0.9802 |\n",
        "| Linear  | 100  | 0.9802 |\n",
        "| Linear  | 1000 | 0.9791 |\n",
        "| Poly    | 1    | 0.9746 |\n",
        "| Poly    | 100  | 0.9771 |\n",
        "| Sigmoid | 1    | 0.9268 |\n",
        "| Sigmoid | 100  | 0.9232 |\n",
        "\n",
        "According to the table, the best estimator is Linear with paramet C=1 (or C=100)."
      ],
      "metadata": {
        "id": "4G24LxhhMIRp"
      }
    },
    {
      "cell_type": "markdown",
      "source": [
        "### Grid Search)"
      ],
      "metadata": {
        "id": "Xcoieo7WQlCQ"
      }
    },
    {
      "cell_type": "code",
      "source": [
        "# defining parameter range\n",
        "param_grid_rbf = {'C': [1, 10, 100, 500],\n",
        "                  'gamma': [0.1, 0.3, 0.5, 0.7, 0.9],\n",
        "                  'kernel': ['rbf']}\n",
        "param_grid_linear = {'C': [1, 10, 100, 1000],\n",
        "                  'kernel': ['linear']}\n",
        "param_grid_poly = {'C': [1, 10, 100, 500],\n",
        "                  'gamma': [0.01, 0.03, 0.05],\n",
        "                  'degree': [2, 3, 4],\n",
        "                  'kernel': ['poly']}"
      ],
      "metadata": {
        "id": "vyjKQT1tQuSR"
      },
      "execution_count": null,
      "outputs": []
    },
    {
      "cell_type": "markdown",
      "source": [
        "#### RBF:"
      ],
      "metadata": {
        "id": "mtaM43bCS9NU"
      }
    },
    {
      "cell_type": "code",
      "source": [
        "grid_rbf = GridSearchCV(SVC(), param_grid_rbf, refit = True, verbose = 3)\n",
        "grid_rbf.fit(X_train, y_train)"
      ],
      "metadata": {
        "colab": {
          "base_uri": "https://localhost:8080/"
        },
        "id": "qe8P4Y5SRUpr",
        "outputId": "e1a12393-3a64-4328-b4d8-968c267a1e94"
      },
      "execution_count": null,
      "outputs": [
        {
          "output_type": "stream",
          "name": "stdout",
          "text": [
            "Fitting 5 folds for each of 20 candidates, totalling 100 fits\n",
            "[CV 1/5] END ........C=1, gamma=0.1, kernel=rbf;, score=0.911 total time=  18.2s\n",
            "[CV 2/5] END ........C=1, gamma=0.1, kernel=rbf;, score=0.910 total time=  17.9s\n",
            "[CV 3/5] END ........C=1, gamma=0.1, kernel=rbf;, score=0.911 total time=  17.8s\n",
            "[CV 4/5] END ........C=1, gamma=0.1, kernel=rbf;, score=0.912 total time=  17.8s\n",
            "[CV 5/5] END ........C=1, gamma=0.1, kernel=rbf;, score=0.911 total time=  17.8s\n",
            "[CV 1/5] END ........C=1, gamma=0.3, kernel=rbf;, score=0.907 total time=  19.3s\n",
            "[CV 2/5] END ........C=1, gamma=0.3, kernel=rbf;, score=0.907 total time=  19.1s\n",
            "[CV 3/5] END ........C=1, gamma=0.3, kernel=rbf;, score=0.907 total time=  19.2s\n",
            "[CV 4/5] END ........C=1, gamma=0.3, kernel=rbf;, score=0.908 total time=  29.1s\n",
            "[CV 5/5] END ........C=1, gamma=0.3, kernel=rbf;, score=0.907 total time=  21.2s\n",
            "[CV 1/5] END ........C=1, gamma=0.5, kernel=rbf;, score=0.907 total time=  30.0s\n",
            "[CV 2/5] END ........C=1, gamma=0.5, kernel=rbf;, score=0.907 total time=  34.3s\n",
            "[CV 3/5] END ........C=1, gamma=0.5, kernel=rbf;, score=0.907 total time=  30.1s\n",
            "[CV 4/5] END ........C=1, gamma=0.5, kernel=rbf;, score=0.908 total time=  23.0s\n",
            "[CV 5/5] END ........C=1, gamma=0.5, kernel=rbf;, score=0.907 total time=  23.2s\n",
            "[CV 1/5] END ........C=1, gamma=0.7, kernel=rbf;, score=0.907 total time=  25.7s\n",
            "[CV 2/5] END ........C=1, gamma=0.7, kernel=rbf;, score=0.907 total time=  29.2s\n",
            "[CV 3/5] END ........C=1, gamma=0.7, kernel=rbf;, score=0.907 total time=  23.5s\n",
            "[CV 4/5] END ........C=1, gamma=0.7, kernel=rbf;, score=0.908 total time=  23.3s\n",
            "[CV 5/5] END ........C=1, gamma=0.7, kernel=rbf;, score=0.907 total time=  23.5s\n",
            "[CV 1/5] END ........C=1, gamma=0.9, kernel=rbf;, score=0.907 total time=  34.3s\n",
            "[CV 2/5] END ........C=1, gamma=0.9, kernel=rbf;, score=0.907 total time=  24.0s\n",
            "[CV 3/5] END ........C=1, gamma=0.9, kernel=rbf;, score=0.907 total time=  24.2s\n",
            "[CV 4/5] END ........C=1, gamma=0.9, kernel=rbf;, score=0.908 total time=  24.4s\n",
            "[CV 5/5] END ........C=1, gamma=0.9, kernel=rbf;, score=0.907 total time=  25.2s\n",
            "[CV 1/5] END .......C=10, gamma=0.1, kernel=rbf;, score=0.915 total time=  20.8s\n",
            "[CV 2/5] END .......C=10, gamma=0.1, kernel=rbf;, score=0.911 total time=  20.4s\n",
            "[CV 3/5] END .......C=10, gamma=0.1, kernel=rbf;, score=0.912 total time=  20.3s\n",
            "[CV 4/5] END .......C=10, gamma=0.1, kernel=rbf;, score=0.917 total time=  21.1s\n",
            "[CV 5/5] END .......C=10, gamma=0.1, kernel=rbf;, score=0.911 total time=  20.7s\n",
            "[CV 1/5] END .......C=10, gamma=0.3, kernel=rbf;, score=0.907 total time=  27.0s\n",
            "[CV 2/5] END .......C=10, gamma=0.3, kernel=rbf;, score=0.907 total time=  26.7s\n",
            "[CV 3/5] END .......C=10, gamma=0.3, kernel=rbf;, score=0.906 total time=  26.7s\n",
            "[CV 4/5] END .......C=10, gamma=0.3, kernel=rbf;, score=0.908 total time=  26.9s\n",
            "[CV 5/5] END .......C=10, gamma=0.3, kernel=rbf;, score=0.907 total time=  26.7s\n",
            "[CV 1/5] END .......C=10, gamma=0.5, kernel=rbf;, score=0.907 total time=  24.2s\n",
            "[CV 2/5] END .......C=10, gamma=0.5, kernel=rbf;, score=0.907 total time=  24.0s\n",
            "[CV 3/5] END .......C=10, gamma=0.5, kernel=rbf;, score=0.907 total time=  24.1s\n",
            "[CV 4/5] END .......C=10, gamma=0.5, kernel=rbf;, score=0.908 total time=  24.0s\n",
            "[CV 5/5] END .......C=10, gamma=0.5, kernel=rbf;, score=0.907 total time=  24.1s\n",
            "[CV 1/5] END .......C=10, gamma=0.7, kernel=rbf;, score=0.907 total time=  25.1s\n",
            "[CV 2/5] END .......C=10, gamma=0.7, kernel=rbf;, score=0.907 total time=  24.8s\n",
            "[CV 3/5] END .......C=10, gamma=0.7, kernel=rbf;, score=0.907 total time=  25.0s\n",
            "[CV 4/5] END .......C=10, gamma=0.7, kernel=rbf;, score=0.908 total time=  24.9s\n",
            "[CV 5/5] END .......C=10, gamma=0.7, kernel=rbf;, score=0.907 total time=  24.9s\n",
            "[CV 1/5] END .......C=10, gamma=0.9, kernel=rbf;, score=0.907 total time=  23.5s\n",
            "[CV 2/5] END .......C=10, gamma=0.9, kernel=rbf;, score=0.907 total time=  23.2s\n",
            "[CV 3/5] END .......C=10, gamma=0.9, kernel=rbf;, score=0.907 total time=  23.4s\n",
            "[CV 4/5] END .......C=10, gamma=0.9, kernel=rbf;, score=0.908 total time=  23.7s\n",
            "[CV 5/5] END .......C=10, gamma=0.9, kernel=rbf;, score=0.907 total time=  23.4s\n",
            "[CV 1/5] END ......C=100, gamma=0.1, kernel=rbf;, score=0.915 total time=  20.4s\n",
            "[CV 2/5] END ......C=100, gamma=0.1, kernel=rbf;, score=0.911 total time=  20.2s\n",
            "[CV 3/5] END ......C=100, gamma=0.1, kernel=rbf;, score=0.912 total time=  20.4s\n",
            "[CV 4/5] END ......C=100, gamma=0.1, kernel=rbf;, score=0.917 total time=  20.5s\n",
            "[CV 5/5] END ......C=100, gamma=0.1, kernel=rbf;, score=0.911 total time=  20.7s\n",
            "[CV 1/5] END ......C=100, gamma=0.3, kernel=rbf;, score=0.907 total time=  27.2s\n",
            "[CV 2/5] END ......C=100, gamma=0.3, kernel=rbf;, score=0.907 total time=  26.7s\n",
            "[CV 3/5] END ......C=100, gamma=0.3, kernel=rbf;, score=0.906 total time=  26.7s\n",
            "[CV 4/5] END ......C=100, gamma=0.3, kernel=rbf;, score=0.908 total time=  26.8s\n",
            "[CV 5/5] END ......C=100, gamma=0.3, kernel=rbf;, score=0.907 total time=  26.6s\n",
            "[CV 1/5] END ......C=100, gamma=0.5, kernel=rbf;, score=0.907 total time=  24.1s\n",
            "[CV 2/5] END ......C=100, gamma=0.5, kernel=rbf;, score=0.907 total time=  23.9s\n",
            "[CV 3/5] END ......C=100, gamma=0.5, kernel=rbf;, score=0.907 total time=  24.1s\n",
            "[CV 4/5] END ......C=100, gamma=0.5, kernel=rbf;, score=0.908 total time=  24.0s\n",
            "[CV 5/5] END ......C=100, gamma=0.5, kernel=rbf;, score=0.907 total time=  24.1s\n",
            "[CV 1/5] END ......C=100, gamma=0.7, kernel=rbf;, score=0.907 total time=  25.1s\n",
            "[CV 2/5] END ......C=100, gamma=0.7, kernel=rbf;, score=0.907 total time=  24.8s\n",
            "[CV 3/5] END ......C=100, gamma=0.7, kernel=rbf;, score=0.907 total time=  25.1s\n",
            "[CV 4/5] END ......C=100, gamma=0.7, kernel=rbf;, score=0.908 total time=  25.0s\n",
            "[CV 5/5] END ......C=100, gamma=0.7, kernel=rbf;, score=0.907 total time=  24.9s\n",
            "[CV 1/5] END ......C=100, gamma=0.9, kernel=rbf;, score=0.907 total time=  23.5s\n",
            "[CV 2/5] END ......C=100, gamma=0.9, kernel=rbf;, score=0.907 total time=  23.3s\n",
            "[CV 3/5] END ......C=100, gamma=0.9, kernel=rbf;, score=0.907 total time=  23.4s\n",
            "[CV 4/5] END ......C=100, gamma=0.9, kernel=rbf;, score=0.908 total time=  23.7s\n",
            "[CV 5/5] END ......C=100, gamma=0.9, kernel=rbf;, score=0.907 total time=  23.4s\n",
            "[CV 1/5] END ......C=500, gamma=0.1, kernel=rbf;, score=0.915 total time=  20.5s\n",
            "[CV 2/5] END ......C=500, gamma=0.1, kernel=rbf;, score=0.911 total time=  20.2s\n",
            "[CV 3/5] END ......C=500, gamma=0.1, kernel=rbf;, score=0.912 total time=  20.4s\n",
            "[CV 4/5] END ......C=500, gamma=0.1, kernel=rbf;, score=0.917 total time=  20.3s\n",
            "[CV 5/5] END ......C=500, gamma=0.1, kernel=rbf;, score=0.911 total time=  20.6s\n",
            "[CV 1/5] END ......C=500, gamma=0.3, kernel=rbf;, score=0.907 total time=  26.9s\n",
            "[CV 2/5] END ......C=500, gamma=0.3, kernel=rbf;, score=0.907 total time=  26.7s\n",
            "[CV 3/5] END ......C=500, gamma=0.3, kernel=rbf;, score=0.906 total time=  26.7s\n",
            "[CV 4/5] END ......C=500, gamma=0.3, kernel=rbf;, score=0.908 total time=  26.9s\n",
            "[CV 5/5] END ......C=500, gamma=0.3, kernel=rbf;, score=0.907 total time=  26.7s\n",
            "[CV 1/5] END ......C=500, gamma=0.5, kernel=rbf;, score=0.907 total time=  24.1s\n",
            "[CV 2/5] END ......C=500, gamma=0.5, kernel=rbf;, score=0.907 total time=  23.9s\n",
            "[CV 3/5] END ......C=500, gamma=0.5, kernel=rbf;, score=0.907 total time=  24.1s\n",
            "[CV 4/5] END ......C=500, gamma=0.5, kernel=rbf;, score=0.908 total time=  24.0s\n",
            "[CV 5/5] END ......C=500, gamma=0.5, kernel=rbf;, score=0.907 total time=  24.1s\n",
            "[CV 1/5] END ......C=500, gamma=0.7, kernel=rbf;, score=0.907 total time=  25.1s\n",
            "[CV 2/5] END ......C=500, gamma=0.7, kernel=rbf;, score=0.907 total time=  24.8s\n",
            "[CV 3/5] END ......C=500, gamma=0.7, kernel=rbf;, score=0.907 total time=  25.0s\n",
            "[CV 4/5] END ......C=500, gamma=0.7, kernel=rbf;, score=0.908 total time=  25.0s\n",
            "[CV 5/5] END ......C=500, gamma=0.7, kernel=rbf;, score=0.907 total time=  24.9s\n",
            "[CV 1/5] END ......C=500, gamma=0.9, kernel=rbf;, score=0.907 total time=  23.5s\n",
            "[CV 2/5] END ......C=500, gamma=0.9, kernel=rbf;, score=0.907 total time=  23.3s\n",
            "[CV 3/5] END ......C=500, gamma=0.9, kernel=rbf;, score=0.907 total time=  23.4s\n",
            "[CV 4/5] END ......C=500, gamma=0.9, kernel=rbf;, score=0.908 total time=  23.7s\n",
            "[CV 5/5] END ......C=500, gamma=0.9, kernel=rbf;, score=0.907 total time=  23.4s\n"
          ]
        },
        {
          "output_type": "execute_result",
          "data": {
            "text/plain": [
              "GridSearchCV(estimator=SVC(),\n",
              "             param_grid={'C': [1, 10, 100, 500],\n",
              "                         'gamma': [0.1, 0.3, 0.5, 0.7, 0.9],\n",
              "                         'kernel': ['rbf']},\n",
              "             verbose=3)"
            ]
          },
          "metadata": {},
          "execution_count": 38
        }
      ]
    },
    {
      "cell_type": "code",
      "source": [
        "# print best parameter after tuning\n",
        "print(grid_rbf.best_params_)\n",
        " \n",
        "# print how our model looks after hyper-parameter tuning\n",
        "print(grid_rbf.best_estimator_)"
      ],
      "metadata": {
        "colab": {
          "base_uri": "https://localhost:8080/"
        },
        "id": "DISY_DLQSJcn",
        "outputId": "67c35c00-5bbb-41f3-fb45-0bf311e57ac4"
      },
      "execution_count": null,
      "outputs": [
        {
          "output_type": "stream",
          "name": "stdout",
          "text": [
            "{'C': 10, 'gamma': 0.1, 'kernel': 'rbf'}\n",
            "SVC(C=10, gamma=0.1)\n"
          ]
        }
      ]
    },
    {
      "cell_type": "code",
      "source": [
        "grid_predictions_rbf = grid_rbf.predict(X_test)\n",
        " \n",
        "# print classification report\n",
        "print(classification_report(y_test, grid_predictions_rbf))"
      ],
      "metadata": {
        "id": "smBiHFHqSxaH",
        "colab": {
          "base_uri": "https://localhost:8080/"
        },
        "outputId": "aaf827ef-e5c8-46c6-ebeb-31653445a11b"
      },
      "execution_count": null,
      "outputs": [
        {
          "output_type": "stream",
          "name": "stdout",
          "text": [
            "              precision    recall  f1-score   support\n",
            "\n",
            "           0       0.92      0.99      0.96      3265\n",
            "           1       0.66      0.12      0.21       315\n",
            "\n",
            "    accuracy                           0.92      3580\n",
            "   macro avg       0.79      0.56      0.58      3580\n",
            "weighted avg       0.90      0.92      0.89      3580\n",
            "\n"
          ]
        }
      ]
    },
    {
      "cell_type": "markdown",
      "source": [
        "#### Linear:"
      ],
      "metadata": {
        "id": "eORSkqVyTAuJ"
      }
    },
    {
      "cell_type": "code",
      "source": [
        "grid_linear  = GridSearchCV(SVC(), param_grid_linear , refit = True, verbose = 3)\n",
        "grid_linear.fit(X_train, y_train)"
      ],
      "metadata": {
        "colab": {
          "base_uri": "https://localhost:8080/"
        },
        "id": "bk65MBUcR5YH",
        "outputId": "c6c03588-6c7b-4b0c-ff16-9e10db679173"
      },
      "execution_count": null,
      "outputs": [
        {
          "output_type": "stream",
          "name": "stdout",
          "text": [
            "Fitting 5 folds for each of 4 candidates, totalling 20 fits\n",
            "[CV 1/5] END ................C=1, kernel=linear;, score=0.975 total time=  15.4s\n",
            "[CV 2/5] END ................C=1, kernel=linear;, score=0.980 total time=  16.2s\n",
            "[CV 3/5] END ................C=1, kernel=linear;, score=0.978 total time=  13.9s\n",
            "[CV 4/5] END ................C=1, kernel=linear;, score=0.984 total time=  19.8s\n",
            "[CV 5/5] END ................C=1, kernel=linear;, score=0.978 total time=  14.4s\n",
            "[CV 1/5] END ...............C=10, kernel=linear;, score=0.975 total time= 1.5min\n",
            "[CV 2/5] END ...............C=10, kernel=linear;, score=0.981 total time= 1.6min\n",
            "[CV 3/5] END ...............C=10, kernel=linear;, score=0.978 total time= 1.9min\n",
            "[CV 4/5] END ...............C=10, kernel=linear;, score=0.984 total time= 1.8min\n",
            "[CV 5/5] END ...............C=10, kernel=linear;, score=0.978 total time= 1.6min\n",
            "[CV 1/5] END ..............C=100, kernel=linear;, score=0.973 total time= 4.3min\n",
            "[CV 2/5] END ..............C=100, kernel=linear;, score=0.981 total time= 4.8min\n",
            "[CV 3/5] END ..............C=100, kernel=linear;, score=0.978 total time= 5.1min\n",
            "[CV 4/5] END ..............C=100, kernel=linear;, score=0.984 total time= 6.0min\n",
            "[CV 5/5] END ..............C=100, kernel=linear;, score=0.978 total time= 4.2min\n",
            "[CV 1/5] END .............C=1000, kernel=linear;, score=0.973 total time= 5.5min\n",
            "[CV 2/5] END .............C=1000, kernel=linear;, score=0.981 total time= 6.8min\n",
            "[CV 3/5] END .............C=1000, kernel=linear;, score=0.977 total time= 6.3min\n",
            "[CV 4/5] END .............C=1000, kernel=linear;, score=0.984 total time= 6.4min\n",
            "[CV 5/5] END .............C=1000, kernel=linear;, score=0.979 total time= 5.5min\n"
          ]
        },
        {
          "output_type": "execute_result",
          "data": {
            "text/plain": [
              "GridSearchCV(estimator=SVC(),\n",
              "             param_grid={'C': [1, 10, 100, 1000], 'kernel': ['linear']},\n",
              "             verbose=3)"
            ]
          },
          "metadata": {},
          "execution_count": 42
        }
      ]
    },
    {
      "cell_type": "code",
      "source": [
        "# print best parameter after tuning\n",
        "print(grid_linear.best_params_)\n",
        " \n",
        "# print how our model looks after hyper-parameter tuning\n",
        "print(grid_linear.best_estimator_)"
      ],
      "metadata": {
        "colab": {
          "base_uri": "https://localhost:8080/"
        },
        "id": "ZmPI87FETGfJ",
        "outputId": "fb56499d-c59d-4566-8cba-ff0a8866254c"
      },
      "execution_count": null,
      "outputs": [
        {
          "output_type": "stream",
          "name": "stdout",
          "text": [
            "{'C': 10, 'kernel': 'linear'}\n",
            "SVC(C=10, kernel='linear')\n"
          ]
        }
      ]
    },
    {
      "cell_type": "code",
      "source": [
        "grid_predictions_linear = grid_linear.predict(X_test)\n",
        " \n",
        "# print classification report\n",
        "print(classification_report(y_test, grid_predictions_linear))"
      ],
      "metadata": {
        "colab": {
          "base_uri": "https://localhost:8080/"
        },
        "id": "25cO81x9TGZb",
        "outputId": "34a04f3d-5b80-4210-f20a-9cc42d4b6b6a"
      },
      "execution_count": null,
      "outputs": [
        {
          "output_type": "stream",
          "name": "stdout",
          "text": [
            "              precision    recall  f1-score   support\n",
            "\n",
            "           0       0.98      0.99      0.99      3265\n",
            "           1       0.93      0.84      0.88       315\n",
            "\n",
            "    accuracy                           0.98      3580\n",
            "   macro avg       0.96      0.92      0.94      3580\n",
            "weighted avg       0.98      0.98      0.98      3580\n",
            "\n"
          ]
        }
      ]
    },
    {
      "cell_type": "markdown",
      "source": [
        "#### Polynomial:"
      ],
      "metadata": {
        "id": "VaQoK-9YTB9A"
      }
    },
    {
      "cell_type": "code",
      "source": [
        "grid_poly = GridSearchCV(SVC(), param_grid_poly, refit = True, verbose = 3)\n",
        "grid_poly.fit(X_train, y_train)"
      ],
      "metadata": {
        "colab": {
          "base_uri": "https://localhost:8080/",
          "height": 416
        },
        "id": "kJuiY4huR5Pp",
        "outputId": "b4bcc3e9-384b-42f5-9a99-17a623d031ad"
      },
      "execution_count": null,
      "outputs": [
        {
          "output_type": "stream",
          "name": "stdout",
          "text": [
            "Fitting 5 folds for each of 36 candidates, totalling 180 fits\n",
            "[CV 1/5] END C=1, degree=2, gamma=0.01, kernel=poly;, score=0.976 total time= 2.6min\n",
            "[CV 2/5] END C=1, degree=2, gamma=0.01, kernel=poly;, score=0.981 total time= 4.2min\n",
            "[CV 3/5] END C=1, degree=2, gamma=0.01, kernel=poly;, score=0.979 total time= 3.5min\n",
            "[CV 4/5] END C=1, degree=2, gamma=0.01, kernel=poly;, score=0.984 total time= 2.0min\n"
          ]
        },
        {
          "output_type": "error",
          "ename": "KeyboardInterrupt",
          "evalue": "ignored",
          "traceback": [
            "\u001b[0;31m---------------------------------------------------------------------------\u001b[0m",
            "\u001b[0;31mKeyboardInterrupt\u001b[0m                         Traceback (most recent call last)",
            "\u001b[0;32m<ipython-input-45-27d215366ce5>\u001b[0m in \u001b[0;36m<module>\u001b[0;34m()\u001b[0m\n\u001b[1;32m      1\u001b[0m \u001b[0mgrid_poly\u001b[0m \u001b[0;34m=\u001b[0m \u001b[0mGridSearchCV\u001b[0m\u001b[0;34m(\u001b[0m\u001b[0mSVC\u001b[0m\u001b[0;34m(\u001b[0m\u001b[0;34m)\u001b[0m\u001b[0;34m,\u001b[0m \u001b[0mparam_grid_poly\u001b[0m\u001b[0;34m,\u001b[0m \u001b[0mrefit\u001b[0m \u001b[0;34m=\u001b[0m \u001b[0;32mTrue\u001b[0m\u001b[0;34m,\u001b[0m \u001b[0mverbose\u001b[0m \u001b[0;34m=\u001b[0m \u001b[0;36m3\u001b[0m\u001b[0;34m)\u001b[0m\u001b[0;34m\u001b[0m\u001b[0;34m\u001b[0m\u001b[0m\n\u001b[0;32m----> 2\u001b[0;31m \u001b[0mgrid_poly\u001b[0m\u001b[0;34m.\u001b[0m\u001b[0mfit\u001b[0m\u001b[0;34m(\u001b[0m\u001b[0mX_train\u001b[0m\u001b[0;34m,\u001b[0m \u001b[0my_train\u001b[0m\u001b[0;34m)\u001b[0m\u001b[0;34m\u001b[0m\u001b[0;34m\u001b[0m\u001b[0m\n\u001b[0m",
            "\u001b[0;32m/usr/local/lib/python3.7/dist-packages/sklearn/model_selection/_search.py\u001b[0m in \u001b[0;36mfit\u001b[0;34m(self, X, y, groups, **fit_params)\u001b[0m\n\u001b[1;32m    889\u001b[0m                 \u001b[0;32mreturn\u001b[0m \u001b[0mresults\u001b[0m\u001b[0;34m\u001b[0m\u001b[0;34m\u001b[0m\u001b[0m\n\u001b[1;32m    890\u001b[0m \u001b[0;34m\u001b[0m\u001b[0m\n\u001b[0;32m--> 891\u001b[0;31m             \u001b[0mself\u001b[0m\u001b[0;34m.\u001b[0m\u001b[0m_run_search\u001b[0m\u001b[0;34m(\u001b[0m\u001b[0mevaluate_candidates\u001b[0m\u001b[0;34m)\u001b[0m\u001b[0;34m\u001b[0m\u001b[0;34m\u001b[0m\u001b[0m\n\u001b[0m\u001b[1;32m    892\u001b[0m \u001b[0;34m\u001b[0m\u001b[0m\n\u001b[1;32m    893\u001b[0m             \u001b[0;31m# multimetric is determined here because in the case of a callable\u001b[0m\u001b[0;34m\u001b[0m\u001b[0;34m\u001b[0m\u001b[0;34m\u001b[0m\u001b[0m\n",
            "\u001b[0;32m/usr/local/lib/python3.7/dist-packages/sklearn/model_selection/_search.py\u001b[0m in \u001b[0;36m_run_search\u001b[0;34m(self, evaluate_candidates)\u001b[0m\n\u001b[1;32m   1390\u001b[0m     \u001b[0;32mdef\u001b[0m \u001b[0m_run_search\u001b[0m\u001b[0;34m(\u001b[0m\u001b[0mself\u001b[0m\u001b[0;34m,\u001b[0m \u001b[0mevaluate_candidates\u001b[0m\u001b[0;34m)\u001b[0m\u001b[0;34m:\u001b[0m\u001b[0;34m\u001b[0m\u001b[0;34m\u001b[0m\u001b[0m\n\u001b[1;32m   1391\u001b[0m         \u001b[0;34m\"\"\"Search all candidates in param_grid\"\"\"\u001b[0m\u001b[0;34m\u001b[0m\u001b[0;34m\u001b[0m\u001b[0m\n\u001b[0;32m-> 1392\u001b[0;31m         \u001b[0mevaluate_candidates\u001b[0m\u001b[0;34m(\u001b[0m\u001b[0mParameterGrid\u001b[0m\u001b[0;34m(\u001b[0m\u001b[0mself\u001b[0m\u001b[0;34m.\u001b[0m\u001b[0mparam_grid\u001b[0m\u001b[0;34m)\u001b[0m\u001b[0;34m)\u001b[0m\u001b[0;34m\u001b[0m\u001b[0;34m\u001b[0m\u001b[0m\n\u001b[0m\u001b[1;32m   1393\u001b[0m \u001b[0;34m\u001b[0m\u001b[0m\n\u001b[1;32m   1394\u001b[0m \u001b[0;34m\u001b[0m\u001b[0m\n",
            "\u001b[0;32m/usr/local/lib/python3.7/dist-packages/sklearn/model_selection/_search.py\u001b[0m in \u001b[0;36mevaluate_candidates\u001b[0;34m(candidate_params, cv, more_results)\u001b[0m\n\u001b[1;32m    849\u001b[0m                     )\n\u001b[1;32m    850\u001b[0m                     for (cand_idx, parameters), (split_idx, (train, test)) in product(\n\u001b[0;32m--> 851\u001b[0;31m                         \u001b[0menumerate\u001b[0m\u001b[0;34m(\u001b[0m\u001b[0mcandidate_params\u001b[0m\u001b[0;34m)\u001b[0m\u001b[0;34m,\u001b[0m \u001b[0menumerate\u001b[0m\u001b[0;34m(\u001b[0m\u001b[0mcv\u001b[0m\u001b[0;34m.\u001b[0m\u001b[0msplit\u001b[0m\u001b[0;34m(\u001b[0m\u001b[0mX\u001b[0m\u001b[0;34m,\u001b[0m \u001b[0my\u001b[0m\u001b[0;34m,\u001b[0m \u001b[0mgroups\u001b[0m\u001b[0;34m)\u001b[0m\u001b[0;34m)\u001b[0m\u001b[0;34m\u001b[0m\u001b[0;34m\u001b[0m\u001b[0m\n\u001b[0m\u001b[1;32m    852\u001b[0m                     )\n\u001b[1;32m    853\u001b[0m                 )\n",
            "\u001b[0;32m/usr/local/lib/python3.7/dist-packages/joblib/parallel.py\u001b[0m in \u001b[0;36m__call__\u001b[0;34m(self, iterable)\u001b[0m\n\u001b[1;32m   1044\u001b[0m                 \u001b[0mself\u001b[0m\u001b[0;34m.\u001b[0m\u001b[0m_iterating\u001b[0m \u001b[0;34m=\u001b[0m \u001b[0mself\u001b[0m\u001b[0;34m.\u001b[0m\u001b[0m_original_iterator\u001b[0m \u001b[0;32mis\u001b[0m \u001b[0;32mnot\u001b[0m \u001b[0;32mNone\u001b[0m\u001b[0;34m\u001b[0m\u001b[0;34m\u001b[0m\u001b[0m\n\u001b[1;32m   1045\u001b[0m \u001b[0;34m\u001b[0m\u001b[0m\n\u001b[0;32m-> 1046\u001b[0;31m             \u001b[0;32mwhile\u001b[0m \u001b[0mself\u001b[0m\u001b[0;34m.\u001b[0m\u001b[0mdispatch_one_batch\u001b[0m\u001b[0;34m(\u001b[0m\u001b[0miterator\u001b[0m\u001b[0;34m)\u001b[0m\u001b[0;34m:\u001b[0m\u001b[0;34m\u001b[0m\u001b[0;34m\u001b[0m\u001b[0m\n\u001b[0m\u001b[1;32m   1047\u001b[0m                 \u001b[0;32mpass\u001b[0m\u001b[0;34m\u001b[0m\u001b[0;34m\u001b[0m\u001b[0m\n\u001b[1;32m   1048\u001b[0m \u001b[0;34m\u001b[0m\u001b[0m\n",
            "\u001b[0;32m/usr/local/lib/python3.7/dist-packages/joblib/parallel.py\u001b[0m in \u001b[0;36mdispatch_one_batch\u001b[0;34m(self, iterator)\u001b[0m\n\u001b[1;32m    859\u001b[0m                 \u001b[0;32mreturn\u001b[0m \u001b[0;32mFalse\u001b[0m\u001b[0;34m\u001b[0m\u001b[0;34m\u001b[0m\u001b[0m\n\u001b[1;32m    860\u001b[0m             \u001b[0;32melse\u001b[0m\u001b[0;34m:\u001b[0m\u001b[0;34m\u001b[0m\u001b[0;34m\u001b[0m\u001b[0m\n\u001b[0;32m--> 861\u001b[0;31m                 \u001b[0mself\u001b[0m\u001b[0;34m.\u001b[0m\u001b[0m_dispatch\u001b[0m\u001b[0;34m(\u001b[0m\u001b[0mtasks\u001b[0m\u001b[0;34m)\u001b[0m\u001b[0;34m\u001b[0m\u001b[0;34m\u001b[0m\u001b[0m\n\u001b[0m\u001b[1;32m    862\u001b[0m                 \u001b[0;32mreturn\u001b[0m \u001b[0;32mTrue\u001b[0m\u001b[0;34m\u001b[0m\u001b[0;34m\u001b[0m\u001b[0m\n\u001b[1;32m    863\u001b[0m \u001b[0;34m\u001b[0m\u001b[0m\n",
            "\u001b[0;32m/usr/local/lib/python3.7/dist-packages/joblib/parallel.py\u001b[0m in \u001b[0;36m_dispatch\u001b[0;34m(self, batch)\u001b[0m\n\u001b[1;32m    777\u001b[0m         \u001b[0;32mwith\u001b[0m \u001b[0mself\u001b[0m\u001b[0;34m.\u001b[0m\u001b[0m_lock\u001b[0m\u001b[0;34m:\u001b[0m\u001b[0;34m\u001b[0m\u001b[0;34m\u001b[0m\u001b[0m\n\u001b[1;32m    778\u001b[0m             \u001b[0mjob_idx\u001b[0m \u001b[0;34m=\u001b[0m \u001b[0mlen\u001b[0m\u001b[0;34m(\u001b[0m\u001b[0mself\u001b[0m\u001b[0;34m.\u001b[0m\u001b[0m_jobs\u001b[0m\u001b[0;34m)\u001b[0m\u001b[0;34m\u001b[0m\u001b[0;34m\u001b[0m\u001b[0m\n\u001b[0;32m--> 779\u001b[0;31m             \u001b[0mjob\u001b[0m \u001b[0;34m=\u001b[0m \u001b[0mself\u001b[0m\u001b[0;34m.\u001b[0m\u001b[0m_backend\u001b[0m\u001b[0;34m.\u001b[0m\u001b[0mapply_async\u001b[0m\u001b[0;34m(\u001b[0m\u001b[0mbatch\u001b[0m\u001b[0;34m,\u001b[0m \u001b[0mcallback\u001b[0m\u001b[0;34m=\u001b[0m\u001b[0mcb\u001b[0m\u001b[0;34m)\u001b[0m\u001b[0;34m\u001b[0m\u001b[0;34m\u001b[0m\u001b[0m\n\u001b[0m\u001b[1;32m    780\u001b[0m             \u001b[0;31m# A job can complete so quickly than its callback is\u001b[0m\u001b[0;34m\u001b[0m\u001b[0;34m\u001b[0m\u001b[0;34m\u001b[0m\u001b[0m\n\u001b[1;32m    781\u001b[0m             \u001b[0;31m# called before we get here, causing self._jobs to\u001b[0m\u001b[0;34m\u001b[0m\u001b[0;34m\u001b[0m\u001b[0;34m\u001b[0m\u001b[0m\n",
            "\u001b[0;32m/usr/local/lib/python3.7/dist-packages/joblib/_parallel_backends.py\u001b[0m in \u001b[0;36mapply_async\u001b[0;34m(self, func, callback)\u001b[0m\n\u001b[1;32m    206\u001b[0m     \u001b[0;32mdef\u001b[0m \u001b[0mapply_async\u001b[0m\u001b[0;34m(\u001b[0m\u001b[0mself\u001b[0m\u001b[0;34m,\u001b[0m \u001b[0mfunc\u001b[0m\u001b[0;34m,\u001b[0m \u001b[0mcallback\u001b[0m\u001b[0;34m=\u001b[0m\u001b[0;32mNone\u001b[0m\u001b[0;34m)\u001b[0m\u001b[0;34m:\u001b[0m\u001b[0;34m\u001b[0m\u001b[0;34m\u001b[0m\u001b[0m\n\u001b[1;32m    207\u001b[0m         \u001b[0;34m\"\"\"Schedule a func to be run\"\"\"\u001b[0m\u001b[0;34m\u001b[0m\u001b[0;34m\u001b[0m\u001b[0m\n\u001b[0;32m--> 208\u001b[0;31m         \u001b[0mresult\u001b[0m \u001b[0;34m=\u001b[0m \u001b[0mImmediateResult\u001b[0m\u001b[0;34m(\u001b[0m\u001b[0mfunc\u001b[0m\u001b[0;34m)\u001b[0m\u001b[0;34m\u001b[0m\u001b[0;34m\u001b[0m\u001b[0m\n\u001b[0m\u001b[1;32m    209\u001b[0m         \u001b[0;32mif\u001b[0m \u001b[0mcallback\u001b[0m\u001b[0;34m:\u001b[0m\u001b[0;34m\u001b[0m\u001b[0;34m\u001b[0m\u001b[0m\n\u001b[1;32m    210\u001b[0m             \u001b[0mcallback\u001b[0m\u001b[0;34m(\u001b[0m\u001b[0mresult\u001b[0m\u001b[0;34m)\u001b[0m\u001b[0;34m\u001b[0m\u001b[0;34m\u001b[0m\u001b[0m\n",
            "\u001b[0;32m/usr/local/lib/python3.7/dist-packages/joblib/_parallel_backends.py\u001b[0m in \u001b[0;36m__init__\u001b[0;34m(self, batch)\u001b[0m\n\u001b[1;32m    570\u001b[0m         \u001b[0;31m# Don't delay the application, to avoid keeping the input\u001b[0m\u001b[0;34m\u001b[0m\u001b[0;34m\u001b[0m\u001b[0;34m\u001b[0m\u001b[0m\n\u001b[1;32m    571\u001b[0m         \u001b[0;31m# arguments in memory\u001b[0m\u001b[0;34m\u001b[0m\u001b[0;34m\u001b[0m\u001b[0;34m\u001b[0m\u001b[0m\n\u001b[0;32m--> 572\u001b[0;31m         \u001b[0mself\u001b[0m\u001b[0;34m.\u001b[0m\u001b[0mresults\u001b[0m \u001b[0;34m=\u001b[0m \u001b[0mbatch\u001b[0m\u001b[0;34m(\u001b[0m\u001b[0;34m)\u001b[0m\u001b[0;34m\u001b[0m\u001b[0;34m\u001b[0m\u001b[0m\n\u001b[0m\u001b[1;32m    573\u001b[0m \u001b[0;34m\u001b[0m\u001b[0m\n\u001b[1;32m    574\u001b[0m     \u001b[0;32mdef\u001b[0m \u001b[0mget\u001b[0m\u001b[0;34m(\u001b[0m\u001b[0mself\u001b[0m\u001b[0;34m)\u001b[0m\u001b[0;34m:\u001b[0m\u001b[0;34m\u001b[0m\u001b[0;34m\u001b[0m\u001b[0m\n",
            "\u001b[0;32m/usr/local/lib/python3.7/dist-packages/joblib/parallel.py\u001b[0m in \u001b[0;36m__call__\u001b[0;34m(self)\u001b[0m\n\u001b[1;32m    261\u001b[0m         \u001b[0;32mwith\u001b[0m \u001b[0mparallel_backend\u001b[0m\u001b[0;34m(\u001b[0m\u001b[0mself\u001b[0m\u001b[0;34m.\u001b[0m\u001b[0m_backend\u001b[0m\u001b[0;34m,\u001b[0m \u001b[0mn_jobs\u001b[0m\u001b[0;34m=\u001b[0m\u001b[0mself\u001b[0m\u001b[0;34m.\u001b[0m\u001b[0m_n_jobs\u001b[0m\u001b[0;34m)\u001b[0m\u001b[0;34m:\u001b[0m\u001b[0;34m\u001b[0m\u001b[0;34m\u001b[0m\u001b[0m\n\u001b[1;32m    262\u001b[0m             return [func(*args, **kwargs)\n\u001b[0;32m--> 263\u001b[0;31m                     for func, args, kwargs in self.items]\n\u001b[0m\u001b[1;32m    264\u001b[0m \u001b[0;34m\u001b[0m\u001b[0m\n\u001b[1;32m    265\u001b[0m     \u001b[0;32mdef\u001b[0m \u001b[0m__reduce__\u001b[0m\u001b[0;34m(\u001b[0m\u001b[0mself\u001b[0m\u001b[0;34m)\u001b[0m\u001b[0;34m:\u001b[0m\u001b[0;34m\u001b[0m\u001b[0;34m\u001b[0m\u001b[0m\n",
            "\u001b[0;32m/usr/local/lib/python3.7/dist-packages/joblib/parallel.py\u001b[0m in \u001b[0;36m<listcomp>\u001b[0;34m(.0)\u001b[0m\n\u001b[1;32m    261\u001b[0m         \u001b[0;32mwith\u001b[0m \u001b[0mparallel_backend\u001b[0m\u001b[0;34m(\u001b[0m\u001b[0mself\u001b[0m\u001b[0;34m.\u001b[0m\u001b[0m_backend\u001b[0m\u001b[0;34m,\u001b[0m \u001b[0mn_jobs\u001b[0m\u001b[0;34m=\u001b[0m\u001b[0mself\u001b[0m\u001b[0;34m.\u001b[0m\u001b[0m_n_jobs\u001b[0m\u001b[0;34m)\u001b[0m\u001b[0;34m:\u001b[0m\u001b[0;34m\u001b[0m\u001b[0;34m\u001b[0m\u001b[0m\n\u001b[1;32m    262\u001b[0m             return [func(*args, **kwargs)\n\u001b[0;32m--> 263\u001b[0;31m                     for func, args, kwargs in self.items]\n\u001b[0m\u001b[1;32m    264\u001b[0m \u001b[0;34m\u001b[0m\u001b[0m\n\u001b[1;32m    265\u001b[0m     \u001b[0;32mdef\u001b[0m \u001b[0m__reduce__\u001b[0m\u001b[0;34m(\u001b[0m\u001b[0mself\u001b[0m\u001b[0;34m)\u001b[0m\u001b[0;34m:\u001b[0m\u001b[0;34m\u001b[0m\u001b[0;34m\u001b[0m\u001b[0m\n",
            "\u001b[0;32m/usr/local/lib/python3.7/dist-packages/sklearn/utils/fixes.py\u001b[0m in \u001b[0;36m__call__\u001b[0;34m(self, *args, **kwargs)\u001b[0m\n\u001b[1;32m    214\u001b[0m     \u001b[0;32mdef\u001b[0m \u001b[0m__call__\u001b[0m\u001b[0;34m(\u001b[0m\u001b[0mself\u001b[0m\u001b[0;34m,\u001b[0m \u001b[0;34m*\u001b[0m\u001b[0margs\u001b[0m\u001b[0;34m,\u001b[0m \u001b[0;34m**\u001b[0m\u001b[0mkwargs\u001b[0m\u001b[0;34m)\u001b[0m\u001b[0;34m:\u001b[0m\u001b[0;34m\u001b[0m\u001b[0;34m\u001b[0m\u001b[0m\n\u001b[1;32m    215\u001b[0m         \u001b[0;32mwith\u001b[0m \u001b[0mconfig_context\u001b[0m\u001b[0;34m(\u001b[0m\u001b[0;34m**\u001b[0m\u001b[0mself\u001b[0m\u001b[0;34m.\u001b[0m\u001b[0mconfig\u001b[0m\u001b[0;34m)\u001b[0m\u001b[0;34m:\u001b[0m\u001b[0;34m\u001b[0m\u001b[0;34m\u001b[0m\u001b[0m\n\u001b[0;32m--> 216\u001b[0;31m             \u001b[0;32mreturn\u001b[0m \u001b[0mself\u001b[0m\u001b[0;34m.\u001b[0m\u001b[0mfunction\u001b[0m\u001b[0;34m(\u001b[0m\u001b[0;34m*\u001b[0m\u001b[0margs\u001b[0m\u001b[0;34m,\u001b[0m \u001b[0;34m**\u001b[0m\u001b[0mkwargs\u001b[0m\u001b[0;34m)\u001b[0m\u001b[0;34m\u001b[0m\u001b[0;34m\u001b[0m\u001b[0m\n\u001b[0m\u001b[1;32m    217\u001b[0m \u001b[0;34m\u001b[0m\u001b[0m\n\u001b[1;32m    218\u001b[0m \u001b[0;34m\u001b[0m\u001b[0m\n",
            "\u001b[0;32m/usr/local/lib/python3.7/dist-packages/sklearn/model_selection/_validation.py\u001b[0m in \u001b[0;36m_fit_and_score\u001b[0;34m(estimator, X, y, scorer, train, test, verbose, parameters, fit_params, return_train_score, return_parameters, return_n_test_samples, return_times, return_estimator, split_progress, candidate_progress, error_score)\u001b[0m\n\u001b[1;32m    678\u001b[0m             \u001b[0mestimator\u001b[0m\u001b[0;34m.\u001b[0m\u001b[0mfit\u001b[0m\u001b[0;34m(\u001b[0m\u001b[0mX_train\u001b[0m\u001b[0;34m,\u001b[0m \u001b[0;34m**\u001b[0m\u001b[0mfit_params\u001b[0m\u001b[0;34m)\u001b[0m\u001b[0;34m\u001b[0m\u001b[0;34m\u001b[0m\u001b[0m\n\u001b[1;32m    679\u001b[0m         \u001b[0;32melse\u001b[0m\u001b[0;34m:\u001b[0m\u001b[0;34m\u001b[0m\u001b[0;34m\u001b[0m\u001b[0m\n\u001b[0;32m--> 680\u001b[0;31m             \u001b[0mestimator\u001b[0m\u001b[0;34m.\u001b[0m\u001b[0mfit\u001b[0m\u001b[0;34m(\u001b[0m\u001b[0mX_train\u001b[0m\u001b[0;34m,\u001b[0m \u001b[0my_train\u001b[0m\u001b[0;34m,\u001b[0m \u001b[0;34m**\u001b[0m\u001b[0mfit_params\u001b[0m\u001b[0;34m)\u001b[0m\u001b[0;34m\u001b[0m\u001b[0;34m\u001b[0m\u001b[0m\n\u001b[0m\u001b[1;32m    681\u001b[0m \u001b[0;34m\u001b[0m\u001b[0m\n\u001b[1;32m    682\u001b[0m     \u001b[0;32mexcept\u001b[0m \u001b[0mException\u001b[0m\u001b[0;34m:\u001b[0m\u001b[0;34m\u001b[0m\u001b[0;34m\u001b[0m\u001b[0m\n",
            "\u001b[0;32m/usr/local/lib/python3.7/dist-packages/sklearn/svm/_base.py\u001b[0m in \u001b[0;36mfit\u001b[0;34m(self, X, y, sample_weight)\u001b[0m\n\u001b[1;32m    253\u001b[0m \u001b[0;34m\u001b[0m\u001b[0m\n\u001b[1;32m    254\u001b[0m         \u001b[0mseed\u001b[0m \u001b[0;34m=\u001b[0m \u001b[0mrnd\u001b[0m\u001b[0;34m.\u001b[0m\u001b[0mrandint\u001b[0m\u001b[0;34m(\u001b[0m\u001b[0mnp\u001b[0m\u001b[0;34m.\u001b[0m\u001b[0miinfo\u001b[0m\u001b[0;34m(\u001b[0m\u001b[0;34m\"i\"\u001b[0m\u001b[0;34m)\u001b[0m\u001b[0;34m.\u001b[0m\u001b[0mmax\u001b[0m\u001b[0;34m)\u001b[0m\u001b[0;34m\u001b[0m\u001b[0;34m\u001b[0m\u001b[0m\n\u001b[0;32m--> 255\u001b[0;31m         \u001b[0mfit\u001b[0m\u001b[0;34m(\u001b[0m\u001b[0mX\u001b[0m\u001b[0;34m,\u001b[0m \u001b[0my\u001b[0m\u001b[0;34m,\u001b[0m \u001b[0msample_weight\u001b[0m\u001b[0;34m,\u001b[0m \u001b[0msolver_type\u001b[0m\u001b[0;34m,\u001b[0m \u001b[0mkernel\u001b[0m\u001b[0;34m,\u001b[0m \u001b[0mrandom_seed\u001b[0m\u001b[0;34m=\u001b[0m\u001b[0mseed\u001b[0m\u001b[0;34m)\u001b[0m\u001b[0;34m\u001b[0m\u001b[0;34m\u001b[0m\u001b[0m\n\u001b[0m\u001b[1;32m    256\u001b[0m         \u001b[0;31m# see comment on the other call to np.iinfo in this file\u001b[0m\u001b[0;34m\u001b[0m\u001b[0;34m\u001b[0m\u001b[0;34m\u001b[0m\u001b[0m\n\u001b[1;32m    257\u001b[0m \u001b[0;34m\u001b[0m\u001b[0m\n",
            "\u001b[0;32m/usr/local/lib/python3.7/dist-packages/sklearn/svm/_base.py\u001b[0m in \u001b[0;36m_dense_fit\u001b[0;34m(self, X, y, sample_weight, solver_type, kernel, random_seed)\u001b[0m\n\u001b[1;32m    331\u001b[0m             \u001b[0mepsilon\u001b[0m\u001b[0;34m=\u001b[0m\u001b[0mself\u001b[0m\u001b[0;34m.\u001b[0m\u001b[0mepsilon\u001b[0m\u001b[0;34m,\u001b[0m\u001b[0;34m\u001b[0m\u001b[0;34m\u001b[0m\u001b[0m\n\u001b[1;32m    332\u001b[0m             \u001b[0mmax_iter\u001b[0m\u001b[0;34m=\u001b[0m\u001b[0mself\u001b[0m\u001b[0;34m.\u001b[0m\u001b[0mmax_iter\u001b[0m\u001b[0;34m,\u001b[0m\u001b[0;34m\u001b[0m\u001b[0;34m\u001b[0m\u001b[0m\n\u001b[0;32m--> 333\u001b[0;31m             \u001b[0mrandom_seed\u001b[0m\u001b[0;34m=\u001b[0m\u001b[0mrandom_seed\u001b[0m\u001b[0;34m,\u001b[0m\u001b[0;34m\u001b[0m\u001b[0;34m\u001b[0m\u001b[0m\n\u001b[0m\u001b[1;32m    334\u001b[0m         )\n\u001b[1;32m    335\u001b[0m \u001b[0;34m\u001b[0m\u001b[0m\n",
            "\u001b[0;31mKeyboardInterrupt\u001b[0m: "
          ]
        }
      ]
    },
    {
      "cell_type": "code",
      "source": [
        "# print best parameter after tuning\n",
        "print(grid_poly.best_params_)\n",
        " \n",
        "# print how our model looks after hyper-parameter tuning\n",
        "print(grid_poly.best_estimator_)"
      ],
      "metadata": {
        "id": "wW1Y7370TIwC"
      },
      "execution_count": null,
      "outputs": []
    },
    {
      "cell_type": "code",
      "source": [
        "grid_predictions_poly = grid_poly.predict(X_test)\n",
        " \n",
        "# print classification report\n",
        "print(classification_report(y_test, grid_predictions_poly))"
      ],
      "metadata": {
        "id": "7eps7Oc0TIwD"
      },
      "execution_count": null,
      "outputs": []
    },
    {
      "cell_type": "markdown",
      "source": [
        "It has 180 operation and with 5 minutes average, it will take about **15 hours** to finish. I'm not gonna do that."
      ],
      "metadata": {
        "id": "kcdw-OQxvU-p"
      }
    },
    {
      "cell_type": "markdown",
      "source": [
        "### Results:\n",
        "0.92: {'C': 10, 'gamma': 0.1, 'kernel': 'rbf'}\n",
        "\n",
        "0.98: {'C': 10, 'kernel': 'linear'}\n",
        "\n",
        "~ 0.92 {'C': 10, 'kernel': 'poly', 'gamma': '0.01', 'degree': '2'}\n",
        "\n",
        "According to the results, the best estimator is Linear with paramet C=10"
      ],
      "metadata": {
        "id": "_9mwIVO8UCQj"
      }
    },
    {
      "cell_type": "markdown",
      "source": [
        "# Q6) Cancer.CSV"
      ],
      "metadata": {
        "id": "ao5JGteLBLMV"
      }
    },
    {
      "cell_type": "markdown",
      "source": [
        "Ensembling is a powerful technique to improve the performance of the model by combining various base models in order to produce an optimal and robust model.\n",
        "\n",
        "A voting classifier is a machine learning estimator that trains various base models or estimators and predicts on the basis of aggregating the findings of each base estimator.\n",
        "\n",
        "\n",
        "\n",
        "*   Hard Voting: Predict the class with the largest sum of votes from models\n",
        "*   Soft Voting: Predict the class with the largest summed probability from models.\n",
        "\n",
        "\n",
        "\n",
        "The voting classifier aggregates the predicted class or predicted probability on basis of hard voting or soft voting. So if we feed a variety of base models to the voting classifier it makes sure to resolve the error by any model.\n",
        "\n",
        "![1.png](data:image/png;base64,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)"
      ],
      "metadata": {
        "id": "SkcCdM5bsP95"
      }
    },
    {
      "cell_type": "code",
      "source": [
        "df = pd.read_csv('https://raw.githubusercontent.com/Arashlf/UT_ML_Course/main/Homework4/cancer.csv')"
      ],
      "metadata": {
        "id": "vkDTB0XyBO_G"
      },
      "execution_count": 24,
      "outputs": []
    },
    {
      "cell_type": "code",
      "source": [
        "df.head(3)"
      ],
      "metadata": {
        "id": "mldwS0nNv4q8",
        "colab": {
          "base_uri": "https://localhost:8080/",
          "height": 205
        },
        "outputId": "3f53d6b4-fd3c-4dfd-f2a3-d1dd9e8ceac3"
      },
      "execution_count": 7,
      "outputs": [
        {
          "output_type": "execute_result",
          "data": {
            "text/plain": [
              "   Sample Code Number  Clump Thickness  Uniformity of Cell Size  \\\n",
              "0             1000025                5                        1   \n",
              "1             1002945                5                        4   \n",
              "2             1015425                3                        1   \n",
              "\n",
              "   Uniformity of Cell Shape  Marginal Adhesion  Single Epithelial Cell Size  \\\n",
              "0                         1                  1                            2   \n",
              "1                         4                  5                            7   \n",
              "2                         1                  1                            2   \n",
              "\n",
              "  Bare Nuclei  Bland Chromatin  Normal Nucleoli  Mitoses  Class  \n",
              "0           1                3                1        1      2  \n",
              "1          10                3                2        1      2  \n",
              "2           2                3                1        1      2  "
            ],
            "text/html": [
              "\n",
              "  <div id=\"df-c5cffe96-fc28-448a-84c8-80e177da41c8\">\n",
              "    <div class=\"colab-df-container\">\n",
              "      <div>\n",
              "<style scoped>\n",
              "    .dataframe tbody tr th:only-of-type {\n",
              "        vertical-align: middle;\n",
              "    }\n",
              "\n",
              "    .dataframe tbody tr th {\n",
              "        vertical-align: top;\n",
              "    }\n",
              "\n",
              "    .dataframe thead th {\n",
              "        text-align: right;\n",
              "    }\n",
              "</style>\n",
              "<table border=\"1\" class=\"dataframe\">\n",
              "  <thead>\n",
              "    <tr style=\"text-align: right;\">\n",
              "      <th></th>\n",
              "      <th>Sample Code Number</th>\n",
              "      <th>Clump Thickness</th>\n",
              "      <th>Uniformity of Cell Size</th>\n",
              "      <th>Uniformity of Cell Shape</th>\n",
              "      <th>Marginal Adhesion</th>\n",
              "      <th>Single Epithelial Cell Size</th>\n",
              "      <th>Bare Nuclei</th>\n",
              "      <th>Bland Chromatin</th>\n",
              "      <th>Normal Nucleoli</th>\n",
              "      <th>Mitoses</th>\n",
              "      <th>Class</th>\n",
              "    </tr>\n",
              "  </thead>\n",
              "  <tbody>\n",
              "    <tr>\n",
              "      <th>0</th>\n",
              "      <td>1000025</td>\n",
              "      <td>5</td>\n",
              "      <td>1</td>\n",
              "      <td>1</td>\n",
              "      <td>1</td>\n",
              "      <td>2</td>\n",
              "      <td>1</td>\n",
              "      <td>3</td>\n",
              "      <td>1</td>\n",
              "      <td>1</td>\n",
              "      <td>2</td>\n",
              "    </tr>\n",
              "    <tr>\n",
              "      <th>1</th>\n",
              "      <td>1002945</td>\n",
              "      <td>5</td>\n",
              "      <td>4</td>\n",
              "      <td>4</td>\n",
              "      <td>5</td>\n",
              "      <td>7</td>\n",
              "      <td>10</td>\n",
              "      <td>3</td>\n",
              "      <td>2</td>\n",
              "      <td>1</td>\n",
              "      <td>2</td>\n",
              "    </tr>\n",
              "    <tr>\n",
              "      <th>2</th>\n",
              "      <td>1015425</td>\n",
              "      <td>3</td>\n",
              "      <td>1</td>\n",
              "      <td>1</td>\n",
              "      <td>1</td>\n",
              "      <td>2</td>\n",
              "      <td>2</td>\n",
              "      <td>3</td>\n",
              "      <td>1</td>\n",
              "      <td>1</td>\n",
              "      <td>2</td>\n",
              "    </tr>\n",
              "  </tbody>\n",
              "</table>\n",
              "</div>\n",
              "      <button class=\"colab-df-convert\" onclick=\"convertToInteractive('df-c5cffe96-fc28-448a-84c8-80e177da41c8')\"\n",
              "              title=\"Convert this dataframe to an interactive table.\"\n",
              "              style=\"display:none;\">\n",
              "        \n",
              "  <svg xmlns=\"http://www.w3.org/2000/svg\" height=\"24px\"viewBox=\"0 0 24 24\"\n",
              "       width=\"24px\">\n",
              "    <path d=\"M0 0h24v24H0V0z\" fill=\"none\"/>\n",
              "    <path d=\"M18.56 5.44l.94 2.06.94-2.06 2.06-.94-2.06-.94-.94-2.06-.94 2.06-2.06.94zm-11 1L8.5 8.5l.94-2.06 2.06-.94-2.06-.94L8.5 2.5l-.94 2.06-2.06.94zm10 10l.94 2.06.94-2.06 2.06-.94-2.06-.94-.94-2.06-.94 2.06-2.06.94z\"/><path d=\"M17.41 7.96l-1.37-1.37c-.4-.4-.92-.59-1.43-.59-.52 0-1.04.2-1.43.59L10.3 9.45l-7.72 7.72c-.78.78-.78 2.05 0 2.83L4 21.41c.39.39.9.59 1.41.59.51 0 1.02-.2 1.41-.59l7.78-7.78 2.81-2.81c.8-.78.8-2.07 0-2.86zM5.41 20L4 18.59l7.72-7.72 1.47 1.35L5.41 20z\"/>\n",
              "  </svg>\n",
              "      </button>\n",
              "      \n",
              "  <style>\n",
              "    .colab-df-container {\n",
              "      display:flex;\n",
              "      flex-wrap:wrap;\n",
              "      gap: 12px;\n",
              "    }\n",
              "\n",
              "    .colab-df-convert {\n",
              "      background-color: #E8F0FE;\n",
              "      border: none;\n",
              "      border-radius: 50%;\n",
              "      cursor: pointer;\n",
              "      display: none;\n",
              "      fill: #1967D2;\n",
              "      height: 32px;\n",
              "      padding: 0 0 0 0;\n",
              "      width: 32px;\n",
              "    }\n",
              "\n",
              "    .colab-df-convert:hover {\n",
              "      background-color: #E2EBFA;\n",
              "      box-shadow: 0px 1px 2px rgba(60, 64, 67, 0.3), 0px 1px 3px 1px rgba(60, 64, 67, 0.15);\n",
              "      fill: #174EA6;\n",
              "    }\n",
              "\n",
              "    [theme=dark] .colab-df-convert {\n",
              "      background-color: #3B4455;\n",
              "      fill: #D2E3FC;\n",
              "    }\n",
              "\n",
              "    [theme=dark] .colab-df-convert:hover {\n",
              "      background-color: #434B5C;\n",
              "      box-shadow: 0px 1px 3px 1px rgba(0, 0, 0, 0.15);\n",
              "      filter: drop-shadow(0px 1px 2px rgba(0, 0, 0, 0.3));\n",
              "      fill: #FFFFFF;\n",
              "    }\n",
              "  </style>\n",
              "\n",
              "      <script>\n",
              "        const buttonEl =\n",
              "          document.querySelector('#df-c5cffe96-fc28-448a-84c8-80e177da41c8 button.colab-df-convert');\n",
              "        buttonEl.style.display =\n",
              "          google.colab.kernel.accessAllowed ? 'block' : 'none';\n",
              "\n",
              "        async function convertToInteractive(key) {\n",
              "          const element = document.querySelector('#df-c5cffe96-fc28-448a-84c8-80e177da41c8');\n",
              "          const dataTable =\n",
              "            await google.colab.kernel.invokeFunction('convertToInteractive',\n",
              "                                                     [key], {});\n",
              "          if (!dataTable) return;\n",
              "\n",
              "          const docLinkHtml = 'Like what you see? Visit the ' +\n",
              "            '<a target=\"_blank\" href=https://colab.research.google.com/notebooks/data_table.ipynb>data table notebook</a>'\n",
              "            + ' to learn more about interactive tables.';\n",
              "          element.innerHTML = '';\n",
              "          dataTable['output_type'] = 'display_data';\n",
              "          await google.colab.output.renderOutput(dataTable, element);\n",
              "          const docLink = document.createElement('div');\n",
              "          docLink.innerHTML = docLinkHtml;\n",
              "          element.appendChild(docLink);\n",
              "        }\n",
              "      </script>\n",
              "    </div>\n",
              "  </div>\n",
              "  "
            ]
          },
          "metadata": {},
          "execution_count": 7
        }
      ]
    },
    {
      "cell_type": "code",
      "source": [
        "for col in df.columns:\n",
        "  df = df[pd.to_numeric(df[col], errors='coerce').notnull()]\n",
        "  df[col] = pd.to_numeric(df[col], downcast=\"float\")\n",
        "\n",
        "X = df.drop({'Class','Sample Code Number'}, axis=1)\n",
        "y = df['Class']"
      ],
      "metadata": {
        "id": "TZD8dZtOVfk_"
      },
      "execution_count": 25,
      "outputs": []
    },
    {
      "cell_type": "code",
      "source": [
        "models = {\"lr\":LogisticRegression(), \"dtc\":DecisionTreeClassifier(), \"svm\":SVC()}"
      ],
      "metadata": {
        "id": "bMC46HZDtELu"
      },
      "execution_count": 26,
      "outputs": []
    },
    {
      "cell_type": "code",
      "source": [
        "cv = KFold(n_splits=10, random_state=1, shuffle=True)"
      ],
      "metadata": {
        "id": "cTvtNvt5F7Uv"
      },
      "execution_count": 29,
      "outputs": []
    },
    {
      "cell_type": "code",
      "source": [
        "S = []\n",
        "for model_name, model in models.items():\n",
        "  S.append (cross_val_score(model, X, y, scoring='accuracy', cv=cv, n_jobs=-1))\n",
        "  print(f'{model_name}\\'s accuracy is \\n {S[-1]}\\n')\n",
        "  print(f'mean accuracy of {model_name} is  {np.mean(S[-1])}\\n\\n')\n",
        "\n",
        "print(f'mean accuracy of all models is {np.mean(S)}')"
      ],
      "metadata": {
        "colab": {
          "base_uri": "https://localhost:8080/"
        },
        "id": "epBK2tgGfuYq",
        "outputId": "07e7fdb3-8875-49ba-e46b-9b97f848d4ec"
      },
      "execution_count": 30,
      "outputs": [
        {
          "output_type": "stream",
          "name": "stdout",
          "text": [
            "lr's accuracy is \n",
            " [0.97101449 1.         0.91304348 0.98529412 0.95588235 0.95588235\n",
            " 0.94117647 0.97058824 0.98529412 1.        ]\n",
            "\n",
            "mean accuracy of lr is  0.9678175618073315\n",
            "\n",
            "\n",
            "dtc's accuracy is \n",
            " [0.95652174 0.98550725 0.94202899 0.98529412 0.92647059 0.91176471\n",
            " 0.94117647 0.94117647 0.97058824 0.94117647]\n",
            "\n",
            "mean accuracy of dtc is  0.9501705029838023\n",
            "\n",
            "\n",
            "svm's accuracy is \n",
            " [1.         1.         0.92753623 1.         0.95588235 0.95588235\n",
            " 0.95588235 0.97058824 0.95588235 1.        ]\n",
            "\n",
            "mean accuracy of svm is  0.9721653878942881\n",
            "\n",
            "\n",
            "mean accuracy of all models is 0.9633844842284741\n"
          ]
        }
      ]
    },
    {
      "cell_type": "markdown",
      "source": [
        "According to the results, SVM has the most accuracy, followed by logistic regression, and then decition tree at the end."
      ],
      "metadata": {
        "id": "D1cVcQ4CgZKF"
      }
    }
  ]
}