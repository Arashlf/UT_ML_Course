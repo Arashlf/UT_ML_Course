{
 "cells": [
  {
   "cell_type": "markdown",
   "id": "a8b895a9",
   "metadata": {},
   "source": [
    "# ML: Homework 2 - Question 4 through 6\n",
    "## Arash Latifi - 810197576\n",
    "### Srping 2022"
   ]
  },
  {
   "cell_type": "markdown",
   "id": "a40d90ba",
   "metadata": {},
   "source": [
    "---\n",
    "# Q4) Overfitting and Underfitting"
   ]
  },
  {
   "cell_type": "code",
   "execution_count": 1,
   "id": "f27a462f",
   "metadata": {},
   "outputs": [
    {
     "name": "stdout",
     "output_type": "stream",
     "text": [
      "Q4\n"
     ]
    }
   ],
   "source": [
    "print(\"Q4\")"
   ]
  },
  {
   "cell_type": "markdown",
   "id": "af3c6751",
   "metadata": {},
   "source": [
    " "
   ]
  },
  {
   "cell_type": "markdown",
   "id": "a446cc9f",
   "metadata": {},
   "source": [
    " ---"
   ]
  },
  {
   "cell_type": "markdown",
   "id": "8272259b",
   "metadata": {},
   "source": [
    "# Q5) Stress Lysis Dataset"
   ]
  },
  {
   "cell_type": "code",
   "execution_count": 4,
   "id": "f27a462f",
   "metadata": {},
   "outputs": [
    {
     "name": "stdout",
     "output_type": "stream",
     "text": [
      "Q5\n"
     ]
    }
   ],
   "source": [
    "print(\"Q5\")"
   ]
  },
  {
   "cell_type": "markdown",
   "id": "af3c6751",
   "metadata": {},
   "source": [
    " "
   ]
  },
  {
   "cell_type": "markdown",
   "id": "a446cc9f",
   "metadata": {},
   "source": [
    " ---"
   ]
  },
  {
   "cell_type": "markdown",
   "id": "8272259b",
   "metadata": {},
   "source": [
    "# Q6) Logistic Rression"
   ]
  },
  {
   "cell_type": "code",
   "execution_count": 5,
   "id": "f27a462f",
   "metadata": {},
   "outputs": [
    {
     "name": "stdout",
     "output_type": "stream",
     "text": [
      "Q6\n"
     ]
    }
   ],
   "source": [
    "print(\"Q6\")"
   ]
  },
  {
   "cell_type": "markdown",
   "id": "af3c6751",
   "metadata": {},
   "source": [
    " "
   ]
  }
 ],
 "metadata": {
  "kernelspec": {
   "display_name": "Python 3 (ipykernel)",
   "language": "python",
   "name": "python3"
  },
  "language_info": {
   "codemirror_mode": {
    "name": "ipython",
    "version": 3
   },
   "file_extension": ".py",
   "mimetype": "text/x-python",
   "name": "python",
   "nbconvert_exporter": "python",
   "pygments_lexer": "ipython3",
   "version": "3.9.6"
  }
 },
 "nbformat": 4,
 "nbformat_minor": 5
}
